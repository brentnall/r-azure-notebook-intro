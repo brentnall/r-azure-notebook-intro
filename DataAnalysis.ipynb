{
  "cells": [
    {
      "metadata": {},
      "cell_type": "markdown",
      "source": "# Data analysis, example \n\nIn this notebook we consider data introduced by Ronald Fisher in his 1936 paper *The use of multiple measurements in taxonomic problems*, otherwise known as *Iris*. \n\nThe aim is to cover some R commands for a basic statistical analysis with summary statistics, plots, correlation and group comparisons.\n\n\n# Iris\n\nThe data contains three plant species (setosa, virginica, versicolor) and four features measured for each sample. These quantify the morphologic variation of the iris flower in its three species, all measurements given in centimeters.\n\nThis dataset is inbuilt into R. It can be accessed via:"
    },
    {
      "metadata": {
        "trusted": true
      },
      "cell_type": "code",
      "source": "## load iris, a dataset inbuilt into R\ndata(iris)",
      "execution_count": 1,
      "outputs": []
    },
    {
      "metadata": {},
      "cell_type": "markdown",
      "source": "The first thing I do when loading data is to check it looks as expected. The command `head()` shows the first few rows."
    },
    {
      "metadata": {
        "trusted": true
      },
      "cell_type": "code",
      "source": "## have a look at the data: head() prints out the first few rows\nhead(iris)",
      "execution_count": 2,
      "outputs": [
        {
          "output_type": "display_data",
          "data": {
            "text/plain": "  Sepal.Length Sepal.Width Petal.Length Petal.Width Species\n1 5.1          3.5         1.4          0.2         setosa \n2 4.9          3.0         1.4          0.2         setosa \n3 4.7          3.2         1.3          0.2         setosa \n4 4.6          3.1         1.5          0.2         setosa \n5 5.0          3.6         1.4          0.2         setosa \n6 5.4          3.9         1.7          0.4         setosa ",
            "text/latex": "A data.frame: 6 x 5\n\\begin{tabular}{r|lllll}\n Sepal.Length & Sepal.Width & Petal.Length & Petal.Width & Species\\\\\n <dbl> & <dbl> & <dbl> & <dbl> & <fct>\\\\\n\\hline\n\t 5.1 & 3.5 & 1.4 & 0.2 & setosa\\\\\n\t 4.9 & 3.0 & 1.4 & 0.2 & setosa\\\\\n\t 4.7 & 3.2 & 1.3 & 0.2 & setosa\\\\\n\t 4.6 & 3.1 & 1.5 & 0.2 & setosa\\\\\n\t 5.0 & 3.6 & 1.4 & 0.2 & setosa\\\\\n\t 5.4 & 3.9 & 1.7 & 0.4 & setosa\\\\\n\\end{tabular}\n",
            "text/markdown": "\nA data.frame: 6 x 5\n\n| Sepal.Length &lt;dbl&gt; | Sepal.Width &lt;dbl&gt; | Petal.Length &lt;dbl&gt; | Petal.Width &lt;dbl&gt; | Species &lt;fct&gt; |\n|---|---|---|---|---|\n| 5.1 | 3.5 | 1.4 | 0.2 | setosa |\n| 4.9 | 3.0 | 1.4 | 0.2 | setosa |\n| 4.7 | 3.2 | 1.3 | 0.2 | setosa |\n| 4.6 | 3.1 | 1.5 | 0.2 | setosa |\n| 5.0 | 3.6 | 1.4 | 0.2 | setosa |\n| 5.4 | 3.9 | 1.7 | 0.4 | setosa |\n\n",
            "text/html": "<table>\n<caption>A data.frame: 6 x 5</caption>\n<thead>\n\t<tr><th scope=col>Sepal.Length</th><th scope=col>Sepal.Width</th><th scope=col>Petal.Length</th><th scope=col>Petal.Width</th><th scope=col>Species</th></tr>\n\t<tr><th scope=col>&lt;dbl&gt;</th><th scope=col>&lt;dbl&gt;</th><th scope=col>&lt;dbl&gt;</th><th scope=col>&lt;dbl&gt;</th><th scope=col>&lt;fct&gt;</th></tr>\n</thead>\n<tbody>\n\t<tr><td>5.1</td><td>3.5</td><td>1.4</td><td>0.2</td><td>setosa</td></tr>\n\t<tr><td>4.9</td><td>3.0</td><td>1.4</td><td>0.2</td><td>setosa</td></tr>\n\t<tr><td>4.7</td><td>3.2</td><td>1.3</td><td>0.2</td><td>setosa</td></tr>\n\t<tr><td>4.6</td><td>3.1</td><td>1.5</td><td>0.2</td><td>setosa</td></tr>\n\t<tr><td>5.0</td><td>3.6</td><td>1.4</td><td>0.2</td><td>setosa</td></tr>\n\t<tr><td>5.4</td><td>3.9</td><td>1.7</td><td>0.4</td><td>setosa</td></tr>\n</tbody>\n</table>\n"
          },
          "metadata": {}
        }
      ]
    },
    {
      "metadata": {},
      "cell_type": "markdown",
      "source": "## Saving and loading your data\n\nWhen you have your own dataset you will need to load it into R in a different way. \n\nA common method is to save data as a commar separated file (.csv). This is a text file that separates out columns using a commar (,). You can do this in many programs, including Microsoft Excel, Libreoffice or just a text editor.\n\nData can be saved in R as a csv file using `write.csv()`. \n\nLet us save the iris data as a CSV:"
    },
    {
      "metadata": {
        "trusted": true
      },
      "cell_type": "code",
      "source": "write.csv(file=\"iris-out.csv\", iris, row.names=FALSE)",
      "execution_count": 3,
      "outputs": []
    },
    {
      "metadata": {},
      "cell_type": "markdown",
      "source": "We just created a CSV file called `iris-out.csv` (have a look). \n\nYou may import csv files into R through `read.csv()`. For example, to load the iris data into an object we call *iris2* use:"
    },
    {
      "metadata": {
        "trusted": true
      },
      "cell_type": "code",
      "source": "iris2<- read.csv(\"iris-out.csv\")\n\n##look at first few rows\nhead(iris2) ",
      "execution_count": 4,
      "outputs": [
        {
          "output_type": "display_data",
          "data": {
            "text/plain": "  Sepal.Length Sepal.Width Petal.Length Petal.Width Species\n1 5.1          3.5         1.4          0.2         setosa \n2 4.9          3.0         1.4          0.2         setosa \n3 4.7          3.2         1.3          0.2         setosa \n4 4.6          3.1         1.5          0.2         setosa \n5 5.0          3.6         1.4          0.2         setosa \n6 5.4          3.9         1.7          0.4         setosa ",
            "text/latex": "A data.frame: 6 x 5\n\\begin{tabular}{r|lllll}\n Sepal.Length & Sepal.Width & Petal.Length & Petal.Width & Species\\\\\n <dbl> & <dbl> & <dbl> & <dbl> & <fct>\\\\\n\\hline\n\t 5.1 & 3.5 & 1.4 & 0.2 & setosa\\\\\n\t 4.9 & 3.0 & 1.4 & 0.2 & setosa\\\\\n\t 4.7 & 3.2 & 1.3 & 0.2 & setosa\\\\\n\t 4.6 & 3.1 & 1.5 & 0.2 & setosa\\\\\n\t 5.0 & 3.6 & 1.4 & 0.2 & setosa\\\\\n\t 5.4 & 3.9 & 1.7 & 0.4 & setosa\\\\\n\\end{tabular}\n",
            "text/markdown": "\nA data.frame: 6 x 5\n\n| Sepal.Length &lt;dbl&gt; | Sepal.Width &lt;dbl&gt; | Petal.Length &lt;dbl&gt; | Petal.Width &lt;dbl&gt; | Species &lt;fct&gt; |\n|---|---|---|---|---|\n| 5.1 | 3.5 | 1.4 | 0.2 | setosa |\n| 4.9 | 3.0 | 1.4 | 0.2 | setosa |\n| 4.7 | 3.2 | 1.3 | 0.2 | setosa |\n| 4.6 | 3.1 | 1.5 | 0.2 | setosa |\n| 5.0 | 3.6 | 1.4 | 0.2 | setosa |\n| 5.4 | 3.9 | 1.7 | 0.4 | setosa |\n\n",
            "text/html": "<table>\n<caption>A data.frame: 6 x 5</caption>\n<thead>\n\t<tr><th scope=col>Sepal.Length</th><th scope=col>Sepal.Width</th><th scope=col>Petal.Length</th><th scope=col>Petal.Width</th><th scope=col>Species</th></tr>\n\t<tr><th scope=col>&lt;dbl&gt;</th><th scope=col>&lt;dbl&gt;</th><th scope=col>&lt;dbl&gt;</th><th scope=col>&lt;dbl&gt;</th><th scope=col>&lt;fct&gt;</th></tr>\n</thead>\n<tbody>\n\t<tr><td>5.1</td><td>3.5</td><td>1.4</td><td>0.2</td><td>setosa</td></tr>\n\t<tr><td>4.9</td><td>3.0</td><td>1.4</td><td>0.2</td><td>setosa</td></tr>\n\t<tr><td>4.7</td><td>3.2</td><td>1.3</td><td>0.2</td><td>setosa</td></tr>\n\t<tr><td>4.6</td><td>3.1</td><td>1.5</td><td>0.2</td><td>setosa</td></tr>\n\t<tr><td>5.0</td><td>3.6</td><td>1.4</td><td>0.2</td><td>setosa</td></tr>\n\t<tr><td>5.4</td><td>3.9</td><td>1.7</td><td>0.4</td><td>setosa</td></tr>\n</tbody>\n</table>\n"
          },
          "metadata": {}
        }
      ]
    },
    {
      "metadata": {},
      "cell_type": "markdown",
      "source": "So now we have two datasets in R: iris and iris2. We can see this using the `ls()` function, that lists all the saved objects in the current R session."
    },
    {
      "metadata": {
        "trusted": true
      },
      "cell_type": "code",
      "source": "ls()",
      "execution_count": 5,
      "outputs": [
        {
          "output_type": "display_data",
          "data": {
            "text/plain": "[1] \"iris\"  \"iris2\"",
            "text/latex": "\\begin{enumerate*}\n\\item 'iris'\n\\item 'iris2'\n\\end{enumerate*}\n",
            "text/markdown": "1. 'iris'\n2. 'iris2'\n\n\n",
            "text/html": "<ol class=list-inline>\n\t<li>'iris'</li>\n\t<li>'iris2'</li>\n</ol>\n"
          },
          "metadata": {}
        }
      ]
    },
    {
      "metadata": {},
      "cell_type": "markdown",
      "source": "It is possible to delete R objects using `rm()`, although you usually don't need to do so. However, for example, let us remove iris2"
    },
    {
      "metadata": {
        "trusted": true
      },
      "cell_type": "code",
      "source": "rm(iris2)",
      "execution_count": 6,
      "outputs": []
    },
    {
      "metadata": {},
      "cell_type": "markdown",
      "source": "**Q: What objects have we got saved? Check using `ls()`, and the re-load iris2 from the csv file we saved, and print out the first few rows**"
    },
    {
      "metadata": {
        "trusted": true
      },
      "cell_type": "code",
      "source": "##Enter your code here",
      "execution_count": 7,
      "outputs": []
    },
    {
      "metadata": {},
      "cell_type": "markdown",
      "source": "## Summary statistics\n\n### summary()\n\nWe can obtain common summary statistics by using the `summary()` function on our data set"
    },
    {
      "metadata": {
        "trusted": true
      },
      "cell_type": "code",
      "source": "summary(iris)",
      "execution_count": 8,
      "outputs": [
        {
          "output_type": "display_data",
          "data": {
            "text/plain": "  Sepal.Length    Sepal.Width     Petal.Length    Petal.Width   \n Min.   :4.300   Min.   :2.000   Min.   :1.000   Min.   :0.100  \n 1st Qu.:5.100   1st Qu.:2.800   1st Qu.:1.600   1st Qu.:0.300  \n Median :5.800   Median :3.000   Median :4.350   Median :1.300  \n Mean   :5.843   Mean   :3.057   Mean   :3.758   Mean   :1.199  \n 3rd Qu.:6.400   3rd Qu.:3.300   3rd Qu.:5.100   3rd Qu.:1.800  \n Max.   :7.900   Max.   :4.400   Max.   :6.900   Max.   :2.500  \n       Species  \n setosa    :50  \n versicolor:50  \n virginica :50  \n                \n                \n                "
          },
          "metadata": {}
        }
      ]
    },
    {
      "metadata": {},
      "cell_type": "markdown",
      "source": "\n### apply()\nAnother way to get the different summary statistics by column is to use `apply()` function with the data as the first argument, 2 as the second argument, and the function to use as the third argument.\n\nThe 2 (in second argument) means that *apply the function to columns*, if we wanted to *apply the function to rows* we'd replace with 1. \n\nFor example, let us calculate the mean to the first 4 columns of iris "
    },
    {
      "metadata": {
        "trusted": true
      },
      "cell_type": "code",
      "source": "apply(iris[,1:4], 2, mean) #mean first 4 cols",
      "execution_count": 9,
      "outputs": [
        {
          "output_type": "display_data",
          "data": {
            "text/plain": "Sepal.Length  Sepal.Width Petal.Length  Petal.Width \n    5.843333     3.057333     3.758000     1.199333 ",
            "text/latex": "\\begin{description*}\n\\item[Sepal.Length] 5.84333333333333\n\\item[Sepal.Width] 3.05733333333333\n\\item[Petal.Length] 3.758\n\\item[Petal.Width] 1.19933333333333\n\\end{description*}\n",
            "text/markdown": "Sepal.Length\n:   5.84333333333333Sepal.Width\n:   3.05733333333333Petal.Length\n:   3.758Petal.Width\n:   1.19933333333333\n\n",
            "text/html": "<dl class=dl-horizontal>\n\t<dt>Sepal.Length</dt>\n\t\t<dd>5.84333333333333</dd>\n\t<dt>Sepal.Width</dt>\n\t\t<dd>3.05733333333333</dd>\n\t<dt>Petal.Length</dt>\n\t\t<dd>3.758</dd>\n\t<dt>Petal.Width</dt>\n\t\t<dd>1.19933333333333</dd>\n</dl>\n"
          },
          "metadata": {}
        }
      ]
    },
    {
      "metadata": {},
      "cell_type": "markdown",
      "source": "We can do the same for standard deviation via:"
    },
    {
      "metadata": {
        "trusted": true
      },
      "cell_type": "code",
      "source": "apply(iris[,1:4], 2, sd) #standard deviation",
      "execution_count": 10,
      "outputs": [
        {
          "output_type": "display_data",
          "data": {
            "text/plain": "Sepal.Length  Sepal.Width Petal.Length  Petal.Width \n   0.8280661    0.4358663    1.7652982    0.7622377 ",
            "text/latex": "\\begin{description*}\n\\item[Sepal.Length] 0.828066127977863\n\\item[Sepal.Width] 0.435866284936698\n\\item[Petal.Length] 1.76529823325947\n\\item[Petal.Width] 0.762237668960347\n\\end{description*}\n",
            "text/markdown": "Sepal.Length\n:   0.828066127977863Sepal.Width\n:   0.435866284936698Petal.Length\n:   1.76529823325947Petal.Width\n:   0.762237668960347\n\n",
            "text/html": "<dl class=dl-horizontal>\n\t<dt>Sepal.Length</dt>\n\t\t<dd>0.828066127977863</dd>\n\t<dt>Sepal.Width</dt>\n\t\t<dd>0.435866284936698</dd>\n\t<dt>Petal.Length</dt>\n\t\t<dd>1.76529823325947</dd>\n\t<dt>Petal.Width</dt>\n\t\t<dd>0.762237668960347</dd>\n</dl>\n"
          },
          "metadata": {}
        }
      ]
    },
    {
      "metadata": {},
      "cell_type": "markdown",
      "source": "**Q Calculate maximum by column**. i.e. copy the above command and replace sd by `max`"
    },
    {
      "metadata": {
        "trusted": true
      },
      "cell_type": "code",
      "source": "## Enter your code here and then run it",
      "execution_count": 11,
      "outputs": []
    },
    {
      "metadata": {},
      "cell_type": "markdown",
      "source": "When presenting data it is important to remove spurious precision and many decimal places, by rounding. \n\nThe `round()` function is for this."
    },
    {
      "metadata": {
        "trusted": true
      },
      "cell_type": "code",
      "source": "##save to R object called mysd\nmysd<-apply(iris[,1:4], 2, sd) #standard deviation\n## print out, rounded to 2 d.p.\nround(mysd,2)",
      "execution_count": 12,
      "outputs": [
        {
          "output_type": "display_data",
          "data": {
            "text/plain": "Sepal.Length  Sepal.Width Petal.Length  Petal.Width \n        0.83         0.44         1.77         0.76 ",
            "text/latex": "\\begin{description*}\n\\item[Sepal.Length] 0.83\n\\item[Sepal.Width] 0.44\n\\item[Petal.Length] 1.77\n\\item[Petal.Width] 0.76\n\\end{description*}\n",
            "text/markdown": "Sepal.Length\n:   0.83Sepal.Width\n:   0.44Petal.Length\n:   1.77Petal.Width\n:   0.76\n\n",
            "text/html": "<dl class=dl-horizontal>\n\t<dt>Sepal.Length</dt>\n\t\t<dd>0.83</dd>\n\t<dt>Sepal.Width</dt>\n\t\t<dd>0.44</dd>\n\t<dt>Petal.Length</dt>\n\t\t<dd>1.77</dd>\n\t<dt>Petal.Width</dt>\n\t\t<dd>0.76</dd>\n</dl>\n"
          },
          "metadata": {}
        }
      ]
    },
    {
      "metadata": {},
      "cell_type": "markdown",
      "source": "**Q In the code cell below, try calculate standard quantiles of the sepal length with **\n the R function `quantile`."
    },
    {
      "metadata": {
        "trusted": true
      },
      "cell_type": "code",
      "source": "## Enter your code below here",
      "execution_count": 13,
      "outputs": []
    },
    {
      "metadata": {},
      "cell_type": "markdown",
      "source": "### tapply()\n\nApply calculates a function by row or column. What it you want to do the summary statistic by different groups?\n\nOne way is to use `tapply()`. \n\nFor example, this calculates the mean sepal length by species of plant:"
    },
    {
      "metadata": {
        "trusted": true
      },
      "cell_type": "code",
      "source": "tapply(iris$Sepal.Length, iris$Species, mean) #mean sepal length by type of plant",
      "execution_count": 14,
      "outputs": [
        {
          "output_type": "display_data",
          "data": {
            "text/plain": "    setosa versicolor  virginica \n     5.006      5.936      6.588 ",
            "text/latex": "\\begin{description*}\n\\item[setosa] 5.006\n\\item[versicolor] 5.936\n\\item[virginica] 6.588\n\\end{description*}\n",
            "text/markdown": "setosa\n:   5.006versicolor\n:   5.936virginica\n:   6.588\n\n",
            "text/html": "<dl class=dl-horizontal>\n\t<dt>setosa</dt>\n\t\t<dd>5.006</dd>\n\t<dt>versicolor</dt>\n\t\t<dd>5.936</dd>\n\t<dt>virginica</dt>\n\t\t<dd>6.588</dd>\n</dl>\n"
          },
          "metadata": {}
        }
      ]
    },
    {
      "metadata": {},
      "cell_type": "markdown",
      "source": "In the function `tapply(argument 1, argument 2, argument 3)`\n- The *first* argument is the *data of interest* (iris\\$Sepal.Length in example above), \n- The *second* argument is the *grouping variable* (here iris\\$Species), and \n- The *third* argument is the function or *statistic* we want to calculate (here mean).\n\nThis is another example that does summary statistics of sepal length by species:"
    },
    {
      "metadata": {
        "trusted": true
      },
      "cell_type": "code",
      "source": "tapply(iris$Sepal.Length, iris$Species, summary) ",
      "execution_count": 15,
      "outputs": [
        {
          "output_type": "display_data",
          "data": {
            "text/plain": "$setosa\n   Min. 1st Qu.  Median    Mean 3rd Qu.    Max. \n  4.300   4.800   5.000   5.006   5.200   5.800 \n\n$versicolor\n   Min. 1st Qu.  Median    Mean 3rd Qu.    Max. \n  4.900   5.600   5.900   5.936   6.300   7.000 \n\n$virginica\n   Min. 1st Qu.  Median    Mean 3rd Qu.    Max. \n  4.900   6.225   6.500   6.588   6.900   7.900 \n"
          },
          "metadata": {}
        }
      ]
    },
    {
      "metadata": {},
      "cell_type": "markdown",
      "source": "**Q In the code cell below, try to calculate the following **\n\n- Standard deviation of sepal length by species\n- Summary statistics about petal width by species"
    },
    {
      "metadata": {
        "trusted": true
      },
      "cell_type": "code",
      "source": "## Enter your code here",
      "execution_count": 16,
      "outputs": []
    },
    {
      "metadata": {},
      "cell_type": "markdown",
      "source": "## Plots\n\n### Histograms\n\n**Q Summary statistics show that petal length median is much higher than the mean. Can you think why?**\n\nThis is illustrated by the overall distribution of petal length data shown using a histogram"
    },
    {
      "metadata": {
        "trusted": true
      },
      "cell_type": "code",
      "source": "png(\"plots/dan-plot1.png\")\nhist(iris$Petal.Length)\ndev.off()",
      "execution_count": 17,
      "outputs": [
        {
          "output_type": "display_data",
          "data": {
            "text/plain": "png \n  2 ",
            "text/latex": "\\textbf{png:} 2",
            "text/markdown": "**png:** 2",
            "text/html": "<strong>png:</strong> 2"
          },
          "metadata": {}
        }
      ]
    },
    {
      "metadata": {},
      "cell_type": "markdown",
      "source": "![title](plots/dan-plot1.png)\nThe distribution has a large spike close to zero. \n\nOverall petal length median is much higher than the mean because we have mixed up three species in the overall distribution - setosa, versicolor and virgina. \n\nWithin each species (or subgroup) the median is close to the mean:"
    },
    {
      "metadata": {
        "trusted": true
      },
      "cell_type": "code",
      "source": "tapply(iris$Petal.Length, iris$Species, summary) ",
      "execution_count": 18,
      "outputs": [
        {
          "output_type": "display_data",
          "data": {
            "text/plain": "$setosa\n   Min. 1st Qu.  Median    Mean 3rd Qu.    Max. \n  1.000   1.400   1.500   1.462   1.575   1.900 \n\n$versicolor\n   Min. 1st Qu.  Median    Mean 3rd Qu.    Max. \n   3.00    4.00    4.35    4.26    4.60    5.10 \n\n$virginica\n   Min. 1st Qu.  Median    Mean 3rd Qu.    Max. \n  4.500   5.100   5.550   5.552   5.875   6.900 \n"
          },
          "metadata": {}
        }
      ]
    },
    {
      "metadata": {},
      "cell_type": "markdown",
      "source": "We can visualise this using histograms for each subtype. One might generate 3 different charts using the `png()` (or other graphics file type) command above, repeated three times for the different groups.\n\n**Q generate three histograms in three png files below**"
    },
    {
      "metadata": {
        "trusted": true
      },
      "cell_type": "code",
      "source": "## Insert your code here.",
      "execution_count": 19,
      "outputs": []
    },
    {
      "metadata": {},
      "cell_type": "markdown",
      "source": "An alternative is to put them all into the same file. This may be accomplished, for example, as follows (see code below)."
    },
    {
      "metadata": {
        "trusted": true
      },
      "cell_type": "code",
      "source": "png(\"plots/dan-plot1a.png\", height=360*2, width=360)\n\npar(mfrow=c(3,1))\n\nhist(iris$Petal.Length[iris$Species==\"setosa\"], xlim=c(1,7), col=1, main=\"setosa\", breaks=seq(1,7,by=0.25), xlab=\"Petal length\")\n\nhist(iris$Petal.Length[iris$Species==\"versicolor\"], xlim=c(1,7),col=1, main=\"versicolor\", breaks=seq(1,7,by=0.25), xlab=\"Petal length\")\n\nhist(iris$Petal.Length[iris$Species==\"virginica\"], xlim=c(1,7), col=1, main=\"virginica\", breaks=seq(1,7,by=0.25), xlab=\"Petal length\")\n\ndev.off()",
      "execution_count": 20,
      "outputs": [
        {
          "output_type": "display_data",
          "data": {
            "text/plain": "png \n  2 ",
            "text/latex": "\\textbf{png:} 2",
            "text/markdown": "**png:** 2",
            "text/html": "<strong>png:</strong> 2"
          },
          "metadata": {}
        }
      ]
    },
    {
      "metadata": {},
      "cell_type": "markdown",
      "source": "This is a complicated set of commands at first glance. But if you break it down then it is relatively simple, and gives you some tools for your own plots. Specifically:\n\n- Setting `height=` and `width=` in the `png()` command changes the height and width of the file. It is twice as high as wide above (see help ?png for more information)\n\n- `par(mfrow=c(3,1))` instructs R to have three plots arranged in the single file as a matrix with *3* rows and *1* column. The next commands fill up the slots. If you wanted them with three columns and one row then you'd use `par(mfrow=c(1,3))`; a 2x2 matrix would be `par(mfrow=c(2,2))` etc.\n\n- Choosing which subset of data to use (e.g. `iris$Petal.Length[iris$Species==\"setosa\"]` only selects *petal length* of *setosa* species)\n\n- Choosing the x axis range (`xlim = c(1,7)`). Can similarly set y-axis through `ylim`\n\n- Choosing the title of the plot through `main=\"my title\"`\n\n- Choosing colour (bars as black, through `col = 1`)\n\n- For a histogram, choosing the bins through `breaks = `(and use of `seq()` function for a sequence, where `seq(1,7,by=0.25)` is shorthand for c(1,1.25, 1.5, 1.75, 2, 2.25, ..., 6.75, 7))\n\n- Setting x-axis label through `xlab=\"\"`, similarly y-axis label can be set   \n"
    },
    {
      "metadata": {},
      "cell_type": "markdown",
      "source": "![title](plots/dan-plot1a.png)\nThe plots shows clear differences in petal length between the species."
    },
    {
      "metadata": {},
      "cell_type": "markdown",
      "source": "### Boxplots\n\nAn alternative way to show the distribution is through a boxplot.\n\nIn R if you call the `plot()` function with a *factor* variable (such as Species) first, followed by the numeric variable (such as petal length) then it will produce a boxplot. For example"
    },
    {
      "metadata": {
        "trusted": true
      },
      "cell_type": "code",
      "source": "png(\"plots/dan-boxplot.png\")\nplot(iris$Species,iris$Petal.Length, ylab=\"Petal Length\")\ndev.off()",
      "execution_count": 21,
      "outputs": [
        {
          "output_type": "display_data",
          "data": {
            "text/plain": "png \n  2 ",
            "text/latex": "\\textbf{png:} 2",
            "text/markdown": "**png:** 2",
            "text/html": "<strong>png:</strong> 2"
          },
          "metadata": {}
        }
      ]
    },
    {
      "metadata": {},
      "cell_type": "markdown",
      "source": "![title](plots/dan-boxplot.png)"
    },
    {
      "metadata": {
        "trusted": true
      },
      "cell_type": "markdown",
      "source": "### Scatter plots\n\nNext lets look at the correlation between variables. \n\nWe'll first create a variable called *colour* that is a number 1,2,3 related to the species. This is so that we can use different colour and plotting symbols in the charts."
    },
    {
      "metadata": {
        "trusted": true
      },
      "cell_type": "code",
      "source": "#First, we'll make a variable for colour and character of the plot\niris$colour<-as.integer(iris$Species) ##Species is a factor, this converts it to a number to be used for colour choice\nsummary(iris$colour)",
      "execution_count": 22,
      "outputs": [
        {
          "output_type": "display_data",
          "data": {
            "text/plain": "   Min. 1st Qu.  Median    Mean 3rd Qu.    Max. \n      1       1       2       2       3       3 "
          },
          "metadata": {}
        }
      ]
    },
    {
      "metadata": {},
      "cell_type": "markdown",
      "source": "A scatter plot between two variables is by (for example)"
    },
    {
      "metadata": {
        "trusted": true
      },
      "cell_type": "code",
      "source": "png(\"plots/dan-scatter1.png\")\n\nplot(iris$Petal.Length, iris$Sepal.Length, col = iris$colour, pch=iris$colour)\n\ndev.off()",
      "execution_count": 23,
      "outputs": [
        {
          "output_type": "display_data",
          "data": {
            "text/plain": "png \n  2 ",
            "text/latex": "\\textbf{png:} 2",
            "text/markdown": "**png:** 2",
            "text/html": "<strong>png:</strong> 2"
          },
          "metadata": {}
        }
      ]
    },
    {
      "metadata": {},
      "cell_type": "markdown",
      "source": "![title](plots/dan-scatter1.png)"
    },
    {
      "metadata": {},
      "cell_type": "markdown",
      "source": "R has a poor choice of colours by default, because some people cannot see the difference between red and green. But we can change the colours as we like. For example, suppose we want 1 to translate to black, 2 to purple and 3 to orange."
    },
    {
      "metadata": {
        "trusted": true
      },
      "cell_type": "code",
      "source": "png(\"plots/dan-scatter1b.png\")\n\nplot(iris$Petal.Length, iris$Sepal.Length, col = c(\"black\", \"purple\", \"orange\")[iris$colour], pch=iris$colour)\n\ndev.off()",
      "execution_count": 24,
      "outputs": [
        {
          "output_type": "display_data",
          "data": {
            "text/plain": "png \n  2 ",
            "text/latex": "\\textbf{png:} 2",
            "text/markdown": "**png:** 2",
            "text/html": "<strong>png:</strong> 2"
          },
          "metadata": {}
        }
      ]
    },
    {
      "metadata": {},
      "cell_type": "markdown",
      "source": "![title](plots/dan-scatter1b.png)\n\nWe could repeat these plots for all variables, but it is a little laborious. \n    \nA quicker way to do so is to use a function called `pairs`, that plots does a scatter plot of the variables against each other."
    },
    {
      "metadata": {
        "trusted": true
      },
      "cell_type": "code",
      "source": "#now do and save the plot as a png file\npng(\"plots/dan-pairs.png\")\n# we pass the function the first four columns of iris, and tell it to colour code and use different character for the points using the species (fifth column of iris)\npairs(iris[,1:4], pch=iris$colour, col=c(\"black\", \"purple\", \"orange\")[iris$colour])\ndev.off()",
      "execution_count": 25,
      "outputs": [
        {
          "output_type": "display_data",
          "data": {
            "text/plain": "png \n  2 ",
            "text/latex": "\\textbf{png:} 2",
            "text/markdown": "**png:** 2",
            "text/html": "<strong>png:</strong> 2"
          },
          "metadata": {}
        }
      ]
    },
    {
      "metadata": {},
      "cell_type": "markdown",
      "source": "![title](plots/dan-pairs.png)"
    },
    {
      "metadata": {
        "trusted": true
      },
      "cell_type": "markdown",
      "source": "This shows correlation between the measurements, and also clear differences between species (setosa black o, versicolor purple triangle, virginica orange +)."
    },
    {
      "metadata": {},
      "cell_type": "markdown",
      "source": "### Correlation coefficients\n\nR has functions to calculate correlation coefficients to quantify the association between two continuous variables. The main one is `cor.test`. For example, "
    },
    {
      "metadata": {
        "trusted": true
      },
      "cell_type": "code",
      "source": "cor.test(iris[,1], iris[,2])",
      "execution_count": 26,
      "outputs": [
        {
          "output_type": "display_data",
          "data": {
            "text/plain": "\n\tPearson's product-moment correlation\n\ndata:  iris[, 1] and iris[, 2]\nt = -1.4403, df = 148, p-value = 0.1519\nalternative hypothesis: true correlation is not equal to 0\n95 percent confidence interval:\n -0.27269325  0.04351158\nsample estimates:\n       cor \n-0.1175698 \n"
          },
          "metadata": {}
        }
      ]
    },
    {
      "metadata": {},
      "cell_type": "markdown",
      "source": "The first column is sepal length, the second sepal width, so this is correlation between sepal length and width. \n\nAn alternative way to run the same command is:"
    },
    {
      "metadata": {
        "trusted": true
      },
      "cell_type": "code",
      "source": "cor.test(iris$Sepal.Length, iris$Sepal.Width)",
      "execution_count": 27,
      "outputs": [
        {
          "output_type": "display_data",
          "data": {
            "text/plain": "\n\tPearson's product-moment correlation\n\ndata:  iris$Sepal.Length and iris$Sepal.Width\nt = -1.4403, df = 148, p-value = 0.1519\nalternative hypothesis: true correlation is not equal to 0\n95 percent confidence interval:\n -0.27269325  0.04351158\nsample estimates:\n       cor \n-0.1175698 \n"
          },
          "metadata": {}
        }
      ]
    },
    {
      "metadata": {},
      "cell_type": "markdown",
      "source": "We can also calculate Spearman correlation through:"
    },
    {
      "metadata": {
        "trusted": true
      },
      "cell_type": "code",
      "source": "cor.test(iris$Sepal.Length, iris$Sepal.Width, method=\"spearman\") #Spearman correlation",
      "execution_count": 28,
      "outputs": [
        {
          "output_type": "stream",
          "text": "Warning message in cor.test.default(iris$Sepal.Length, iris$Sepal.Width, method = \"spearman\"):\n“Cannot compute exact p-value with ties”",
          "name": "stderr"
        },
        {
          "output_type": "display_data",
          "data": {
            "text/plain": "\n\tSpearman's rank correlation rho\n\ndata:  iris$Sepal.Length and iris$Sepal.Width\nS = 656280, p-value = 0.04137\nalternative hypothesis: true rho is not equal to 0\nsample estimates:\n       rho \n-0.1667777 \n"
          },
          "metadata": {}
        }
      ]
    },
    {
      "metadata": {},
      "cell_type": "markdown",
      "source": "As we saw above, the distribution is quite different between the species. Let us do the same correlation test but for species (sub) groups."
    },
    {
      "metadata": {
        "trusted": true
      },
      "cell_type": "code",
      "source": "setosa.only <- iris$Species==\"setosa\" ## this creates a TRUE/FALSE vector that is true if species is setosa\n\ncor.test(iris$Sepal.Length[setosa.only], iris$Sepal.Width[setosa.only], method=\"spearman\") #Spearman correlation",
      "execution_count": 29,
      "outputs": [
        {
          "output_type": "stream",
          "text": "Warning message in cor.test.default(iris$Sepal.Length[setosa.only], iris$Sepal.Width[setosa.only], :\n“Cannot compute exact p-value with ties”",
          "name": "stderr"
        },
        {
          "output_type": "display_data",
          "data": {
            "text/plain": "\n\tSpearman's rank correlation rho\n\ndata:  iris$Sepal.Length[setosa.only] and iris$Sepal.Width[setosa.only]\nS = 5095.1, p-value = 2.317e-10\nalternative hypothesis: true rho is not equal to 0\nsample estimates:\n      rho \n0.7553375 \n"
          },
          "metadata": {}
        }
      ]
    },
    {
      "metadata": {},
      "cell_type": "markdown",
      "source": "(much stronger correlation when on species basis only, as expected).\n\n**Q Now try to repeat the above analysis for a different species, and different measurements..**"
    },
    {
      "metadata": {
        "trusted": true
      },
      "cell_type": "code",
      "source": "##add your code here",
      "execution_count": 30,
      "outputs": []
    },
    {
      "metadata": {
        "trusted": true
      },
      "cell_type": "markdown",
      "source": "## Two-group comparisons\n\nWe next use the iris data to demonstrate some methods used to compare two independent groups.\n\nLet us demonstrate by look at the sepal length in the versicolor and virginica species (i.e. two groups)."
    },
    {
      "metadata": {
        "trusted": true
      },
      "cell_type": "code",
      "source": "##create a new data frame excluding setosa species\niris3<-iris[iris$Species != \"setosa\",]\n\niris3$Species<-as.factor(as.character(iris3$Species)) # this command stops R remembering setosa in the factor variable\n\nhead(iris3) ## show first few rows of iris3",
      "execution_count": 31,
      "outputs": [
        {
          "output_type": "display_data",
          "data": {
            "text/plain": "   Sepal.Length Sepal.Width Petal.Length Petal.Width Species    colour\n51 7.0          3.2         4.7          1.4         versicolor 2     \n52 6.4          3.2         4.5          1.5         versicolor 2     \n53 6.9          3.1         4.9          1.5         versicolor 2     \n54 5.5          2.3         4.0          1.3         versicolor 2     \n55 6.5          2.8         4.6          1.5         versicolor 2     \n56 5.7          2.8         4.5          1.3         versicolor 2     ",
            "text/latex": "A data.frame: 6 x 6\n\\begin{tabular}{r|llllll}\n  & Sepal.Length & Sepal.Width & Petal.Length & Petal.Width & Species & colour\\\\\n  & <dbl> & <dbl> & <dbl> & <dbl> & <fct> & <int>\\\\\n\\hline\n\t51 & 7.0 & 3.2 & 4.7 & 1.4 & versicolor & 2\\\\\n\t52 & 6.4 & 3.2 & 4.5 & 1.5 & versicolor & 2\\\\\n\t53 & 6.9 & 3.1 & 4.9 & 1.5 & versicolor & 2\\\\\n\t54 & 5.5 & 2.3 & 4.0 & 1.3 & versicolor & 2\\\\\n\t55 & 6.5 & 2.8 & 4.6 & 1.5 & versicolor & 2\\\\\n\t56 & 5.7 & 2.8 & 4.5 & 1.3 & versicolor & 2\\\\\n\\end{tabular}\n",
            "text/markdown": "\nA data.frame: 6 x 6\n\n| <!--/--> | Sepal.Length &lt;dbl&gt; | Sepal.Width &lt;dbl&gt; | Petal.Length &lt;dbl&gt; | Petal.Width &lt;dbl&gt; | Species &lt;fct&gt; | colour &lt;int&gt; |\n|---|---|---|---|---|---|---|\n| 51 | 7.0 | 3.2 | 4.7 | 1.4 | versicolor | 2 |\n| 52 | 6.4 | 3.2 | 4.5 | 1.5 | versicolor | 2 |\n| 53 | 6.9 | 3.1 | 4.9 | 1.5 | versicolor | 2 |\n| 54 | 5.5 | 2.3 | 4.0 | 1.3 | versicolor | 2 |\n| 55 | 6.5 | 2.8 | 4.6 | 1.5 | versicolor | 2 |\n| 56 | 5.7 | 2.8 | 4.5 | 1.3 | versicolor | 2 |\n\n",
            "text/html": "<table>\n<caption>A data.frame: 6 x 6</caption>\n<thead>\n\t<tr><th></th><th scope=col>Sepal.Length</th><th scope=col>Sepal.Width</th><th scope=col>Petal.Length</th><th scope=col>Petal.Width</th><th scope=col>Species</th><th scope=col>colour</th></tr>\n\t<tr><th></th><th scope=col>&lt;dbl&gt;</th><th scope=col>&lt;dbl&gt;</th><th scope=col>&lt;dbl&gt;</th><th scope=col>&lt;dbl&gt;</th><th scope=col>&lt;fct&gt;</th><th scope=col>&lt;int&gt;</th></tr>\n</thead>\n<tbody>\n\t<tr><th scope=row>51</th><td>7.0</td><td>3.2</td><td>4.7</td><td>1.4</td><td>versicolor</td><td>2</td></tr>\n\t<tr><th scope=row>52</th><td>6.4</td><td>3.2</td><td>4.5</td><td>1.5</td><td>versicolor</td><td>2</td></tr>\n\t<tr><th scope=row>53</th><td>6.9</td><td>3.1</td><td>4.9</td><td>1.5</td><td>versicolor</td><td>2</td></tr>\n\t<tr><th scope=row>54</th><td>5.5</td><td>2.3</td><td>4.0</td><td>1.3</td><td>versicolor</td><td>2</td></tr>\n\t<tr><th scope=row>55</th><td>6.5</td><td>2.8</td><td>4.6</td><td>1.5</td><td>versicolor</td><td>2</td></tr>\n\t<tr><th scope=row>56</th><td>5.7</td><td>2.8</td><td>4.5</td><td>1.3</td><td>versicolor</td><td>2</td></tr>\n</tbody>\n</table>\n"
          },
          "metadata": {}
        }
      ]
    },
    {
      "metadata": {},
      "cell_type": "markdown",
      "source": "**Q Now try to save iris3 as a csv file (using `write.csv()`)**"
    },
    {
      "metadata": {
        "trusted": true
      },
      "cell_type": "code",
      "source": "##Enter your code here",
      "execution_count": 32,
      "outputs": []
    },
    {
      "metadata": {},
      "cell_type": "markdown",
      "source": "Suppose we wish to understand differences between the species in Sepal length.\n\n### Summary statistics"
    },
    {
      "metadata": {
        "trusted": true
      },
      "cell_type": "code",
      "source": "tapply(iris3$Sepal.Length, iris3$Species, summary)",
      "execution_count": 33,
      "outputs": [
        {
          "output_type": "display_data",
          "data": {
            "text/plain": "$versicolor\n   Min. 1st Qu.  Median    Mean 3rd Qu.    Max. \n  4.900   5.600   5.900   5.936   6.300   7.000 \n\n$virginica\n   Min. 1st Qu.  Median    Mean 3rd Qu.    Max. \n  4.900   6.225   6.500   6.588   6.900   7.900 \n"
          },
          "metadata": {}
        }
      ]
    },
    {
      "metadata": {},
      "cell_type": "markdown",
      "source": "### Boxplot"
    },
    {
      "metadata": {
        "trusted": true
      },
      "cell_type": "code",
      "source": "png(\"plots/dan-2box.png\")\nplot(iris3$Species, iris3$Sepal.Length)\ndev.off()",
      "execution_count": 34,
      "outputs": [
        {
          "output_type": "display_data",
          "data": {
            "text/plain": "png \n  2 ",
            "text/latex": "\\textbf{png:} 2",
            "text/markdown": "**png:** 2",
            "text/html": "<strong>png:</strong> 2"
          },
          "metadata": {}
        }
      ]
    },
    {
      "metadata": {},
      "cell_type": "markdown",
      "source": "![title](plots/dan-2box.png)\n\n### Compare means\n\nDo a t-test"
    },
    {
      "metadata": {
        "trusted": true
      },
      "cell_type": "code",
      "source": "t.test(iris3$Sepal.Length[iris3$Species==\"versicolor\"], iris3$Sepal.Length[iris3$Species==\"virginica\"])",
      "execution_count": 35,
      "outputs": [
        {
          "output_type": "display_data",
          "data": {
            "text/plain": "\n\tWelch Two Sample t-test\n\ndata:  iris3$Sepal.Length[iris3$Species == \"versicolor\"] and iris3$Sepal.Length[iris3$Species == \"virginica\"]\nt = -5.6292, df = 94.025, p-value = 1.866e-07\nalternative hypothesis: true difference in means is not equal to 0\n95 percent confidence interval:\n -0.8819731 -0.4220269\nsample estimates:\nmean of x mean of y \n    5.936     6.588 \n"
          },
          "metadata": {}
        }
      ]
    },
    {
      "metadata": {},
      "cell_type": "markdown",
      "source": "Wilcoxon (non-parametric) test"
    },
    {
      "metadata": {
        "trusted": true
      },
      "cell_type": "code",
      "source": "wilcox.test(iris3$Sepal.Length[iris3$Species==\"versicolor\"], iris3$Sepal.Length[iris3$Species==\"virginica\"])",
      "execution_count": 36,
      "outputs": [
        {
          "output_type": "display_data",
          "data": {
            "text/plain": "\n\tWilcoxon rank sum test with continuity correction\n\ndata:  iris3$Sepal.Length[iris3$Species == \"versicolor\"] and iris3$Sepal.Length[iris3$Species == \"virginica\"]\nW = 526, p-value = 5.869e-07\nalternative hypothesis: true location shift is not equal to 0\n"
          },
          "metadata": {}
        }
      ]
    },
    {
      "metadata": {},
      "cell_type": "markdown",
      "source": "**Q Repeat the above analysis below, for petal width**"
    },
    {
      "metadata": {
        "trusted": true
      },
      "cell_type": "code",
      "source": "",
      "execution_count": null,
      "outputs": []
    }
  ],
  "metadata": {
    "kernelspec": {
      "name": "r",
      "display_name": "R",
      "language": "R"
    },
    "language_info": {
      "mimetype": "text/x-r-source",
      "name": "R",
      "pygments_lexer": "r",
      "version": "3.5.3",
      "file_extension": ".r",
      "codemirror_mode": "r"
    }
  },
  "nbformat": 4,
  "nbformat_minor": 2
}
