{
  "cells": [
    {
      "metadata": {},
      "cell_type": "markdown",
      "source": "<div style=\"text-align: center\"><img width=150px src=\"http://upload.wikimedia.org/wikipedia/commons/thumb/1/1b/R_logo.svg/200px-R_logo.svg.png\"></div>"
    },
    {
      "metadata": {},
      "cell_type": "markdown",
      "source": "# An introduction to R and notebooks\n\nR is a language for statistical computing and graphics. It is distributed for free (under the GNU General Public License) and used by many people around the world to analyse data.  \n\nYou can learn more about R at [r-project.org](https://www.r-project.org/about.html) and [An Introduction to R](https://cran.r-project.org/doc/manuals/r-release/R-intro.html).\n\nUse of an analysis notebooks helps you to make your research reproducible, and reduces the chance of making errors (such as transcribing numbers from analysis to report). It also means that if, for some reason, your data are updated then all the analysis can be re-run automatically without having to keep pointing and clicking through multiple menus (e.g. as you would do if using alternative software such as SPSS, Prism etc). \n\nThis notebook demonstrates R within a Jupyter notebook, adapting some material from the Microsoft Azure tutorial for R notebooks. \n\n(NB: although we'll use an R notebook note this is not required to use R for statistical analysis. e.g. You could download it and run it on your computer instead. All you need is available at [r-project.org](https://www.r-project.org/about.html). If you want to install on your computer then a popular add-on some people like is [RStudio](https://www.rstudio.com/products/rstudio/download) (described as \"a set of integrated tools designed to help you be more productive with R\")."
    },
    {
      "metadata": {},
      "cell_type": "markdown",
      "source": "# How to use this tutorial\n\nThis tutorial is a Jupyter notebook, and you can edit and change any of it when opened in Jupyter.\n\nPlease work your way through the text in the tutorial. At some points you will be asked to enter R code and run it. "
    },
    {
      "metadata": {},
      "cell_type": "markdown",
      "source": "# Notebook basics\n\nThere are two basic types of 'cells' in this Jupyter notebook. \n\n- Markdown\n- Code \n\nMarkdown is where you write your text, or tell the notebook to display an image.\nCode is where you do you analysis (in R for us). You can choose the type of cell using the menu above\n\n![title](media/menu.png)\n\nThis is a markdown cell. \n- When it has been 'run' it will look nice in the browser (it has been rendered as HTML)\n- When it is being edited it will have a box around it. For example, to edit text in this cell, double click on it. \n\nTo choose the type of cell (markdown or code) select the box at the top in the menu, and change the selection. Of course code might cause problems in a markdown cell, and vice versa. So you need to make sure you have the right type of cell for what you are entering.\n\nTo get each markdown cell to format or each code cell to do the calculations hit the **Run** button (to the left of the markdown/code selction) after editing it. \n\nTo run all the cells again from the start to the end hit the **>>** button."
    },
    {
      "metadata": {},
      "cell_type": "markdown",
      "source": "# Using R\n\n\n## Your first R command\n\nThe cell below this is the first code cell in this notebook, and it runs a simple command in R"
    },
    {
      "metadata": {
        "trusted": true
      },
      "cell_type": "code",
      "source": "# In a code cell the hashtag means comment - anything after it does not do anything\nprint(\"hello world\")",
      "execution_count": 1,
      "outputs": [
        {
          "output_type": "stream",
          "text": "[1] \"hello world\"\n",
          "name": "stdout"
        }
      ]
    },
    {
      "metadata": {},
      "cell_type": "markdown",
      "source": "**TASK FOR YOU** Repeat what was just done in the code cell by entering a new code cell below this.\n\nInstructions:\n- first select this cell, then \n- go to menu option: **Insert > Insert Cell Below** (or just use the button **+** on the toolbar), \n- enter the code in R to print out \"why did the chicken cross the road?\" \n- and hit **Run**"
    },
    {
      "metadata": {},
      "cell_type": "markdown",
      "source": "## R as a calculator \n\nYou can use R like a calculator. For example 10 times 20 = ?"
    },
    {
      "metadata": {
        "trusted": true
      },
      "cell_type": "code",
      "source": "10 * 20",
      "execution_count": 2,
      "outputs": [
        {
          "output_type": "display_data",
          "data": {
            "text/plain": "[1] 200",
            "text/latex": "200",
            "text/markdown": "200",
            "text/html": "200"
          },
          "metadata": {}
        }
      ]
    },
    {
      "metadata": {
        "trusted": true
      },
      "cell_type": "code",
      "source": "# Division example\n2/3",
      "execution_count": 3,
      "outputs": [
        {
          "output_type": "display_data",
          "data": {
            "text/plain": "[1] 0.6666667",
            "text/latex": "0.666666666666667",
            "text/markdown": "0.666666666666667",
            "text/html": "0.666666666666667"
          },
          "metadata": {}
        }
      ]
    },
    {
      "metadata": {},
      "cell_type": "markdown",
      "source": "** TASK FOR YOU ** How would you add 123 + 125 and get the answer printed out? "
    },
    {
      "metadata": {
        "trusted": true
      },
      "cell_type": "code",
      "source": "#enter your code below and then click run",
      "execution_count": 4,
      "outputs": []
    },
    {
      "metadata": {},
      "cell_type": "markdown",
      "source": "The elementary arithmetic operators are the usual `+`, `-`, `*`, `/`, and `^` (raise to a power), along with all the common arithmetic functions: `log`, `exp`, `sin`, `cos`, `tan`, `sqrt`, and so on."
    },
    {
      "metadata": {
        "trusted": true
      },
      "cell_type": "code",
      "source": "#e.g.the square root of 4 is what?\nsqrt(4)",
      "execution_count": 5,
      "outputs": [
        {
          "output_type": "display_data",
          "data": {
            "text/plain": "[1] 2",
            "text/latex": "2",
            "text/markdown": "2",
            "text/html": "2"
          },
          "metadata": {}
        }
      ]
    },
    {
      "metadata": {},
      "cell_type": "markdown",
      "source": "**TASK FOR YOU** Below a code cell has been created. Please write code in it to calculate the square of 3 (i.e. 3^2) and print it out by hitting **Run**"
    },
    {
      "metadata": {
        "trusted": true
      },
      "cell_type": "code",
      "source": "#write your code below and then hit run",
      "execution_count": 6,
      "outputs": []
    },
    {
      "metadata": {},
      "cell_type": "markdown",
      "source": "## Saving values"
    },
    {
      "metadata": {},
      "cell_type": "markdown",
      "source": "In R we can also save or 'assign' values to an 'object'. This is very useful and needed for more complex analysis. "
    },
    {
      "metadata": {
        "trusted": true
      },
      "cell_type": "code",
      "source": "# For example\nmyval <- 2/3",
      "execution_count": 7,
      "outputs": []
    },
    {
      "metadata": {},
      "cell_type": "markdown",
      "source": "**TASK FOR YOU** Write the code to print out `myval`. \n(Hint: to print out a saved object you just need to write the name of the object and hit run)"
    },
    {
      "metadata": {
        "trusted": true
      },
      "cell_type": "code",
      "source": "# enter your code here and run it",
      "execution_count": 8,
      "outputs": []
    },
    {
      "metadata": {},
      "cell_type": "markdown",
      "source": "Did you get an error message? `Error in eval(expr, envir, enclos): object 'myval' not found`\n\nIf you did not then well done - continue to next section!\n\nIf you did get this error then the reason is that you did not run the code cell above where `myval <- 2/3`. This means that the computer does not yet know what `myval` is. Run the code cell above where `myval <- 2/3`, and then run your cell containing code to print out `myval`. This time it should work.\n\nFor the rest of the tutorial I suggest that you *run every cell* as you go - afterwards the notebook will move to the next cell automatically. (Recall - if you want to run *all* cells in order at once, use the **>>** button)"
    },
    {
      "metadata": {},
      "cell_type": "markdown",
      "source": "\n## Vectors and assignment\n\nR is more advanced than a calculator. More generally R operates on named *data structures*. This is jargon, but worth learning in order to follow the help files in R.\n\nThe simplest *data structure* is the numeric *vector*, which is an ordered collection of numbers (and the most simple vector is just a number - a vector with length 1). \n\nTo set up a vector named `x`, say, consisting of five numbers, namely 10.4, 5.6, 3.1, 6.4 and 21.7, use the following R command:"
    },
    {
      "metadata": {
        "trusted": true
      },
      "cell_type": "code",
      "source": "x <- c(10.4, 5.6, 3.1, 6.4, 21.7)",
      "execution_count": 9,
      "outputs": []
    },
    {
      "metadata": {},
      "cell_type": "markdown",
      "source": "As we saw above, in a notebook, the previous cell won't show any output. You can see the contents of `x` by simple running `x` in a code cell:"
    },
    {
      "metadata": {
        "trusted": true
      },
      "cell_type": "code",
      "source": "x",
      "execution_count": 10,
      "outputs": [
        {
          "output_type": "display_data",
          "data": {
            "text/plain": "[1] 10.4  5.6  3.1  6.4 21.7",
            "text/latex": "\\begin{enumerate*}\n\\item 10.4\n\\item 5.6\n\\item 3.1\n\\item 6.4\n\\item 21.7\n\\end{enumerate*}\n",
            "text/markdown": "1. 10.4\n2. 5.6\n3. 3.1\n4. 6.4\n5. 21.7\n\n\n",
            "text/html": "<ol class=list-inline>\n\t<li>10.4</li>\n\t<li>5.6</li>\n\t<li>3.1</li>\n\t<li>6.4</li>\n\t<li>21.7</li>\n</ol>\n"
          },
          "metadata": {}
        }
      ]
    },
    {
      "metadata": {},
      "cell_type": "markdown",
      "source": "`c()` is a type of *function* . This function puts the numbers together into a vector (`c` stands for concatenation).\n\nThe assignment operator (`<-`) consists of the two characters, `<` (\"less than\") and '-' (\"minus\") occurring strictly side-by-side. It looks like the point of an arrow to the object receiving the value of the expression. It is equivalent to '=', and if you like, you can just use '=' instead.\n\n"
    },
    {
      "metadata": {},
      "cell_type": "markdown",
      "source": "**TASK FOR YOU** Now try to repeat what we did. Enter a vector called `x2` with elements 1,2,3,4, and print it out "
    },
    {
      "metadata": {
        "trusted": true
      },
      "cell_type": "code",
      "source": "##Enter your code here and then run it",
      "execution_count": 11,
      "outputs": []
    },
    {
      "metadata": {},
      "cell_type": "markdown",
      "source": "One nice thing about R is it is easy to get help. For example, suppose you forgot what c() does. You would do this by entering ?c . \n**TASK FOR YOU** Get the R help file for c() by entering ?c "
    },
    {
      "metadata": {
        "trusted": true
      },
      "cell_type": "code",
      "source": "#Enter ?c then click run to get help on the function c()",
      "execution_count": 12,
      "outputs": []
    },
    {
      "metadata": {},
      "cell_type": "markdown",
      "source": "Examples at the bottom of the help file are often the most practically useful part of the help file. They show you how it can be used."
    },
    {
      "metadata": {},
      "cell_type": "markdown",
      "source": "### Some maths using vectors\n\nYou can also do some maths using the vector, as we did for numbers above. For example, the following statement displays the reciprocals of the values in `x` (but doesn't assign those values to any variable):"
    },
    {
      "metadata": {
        "trusted": true
      },
      "cell_type": "code",
      "source": "1/x",
      "execution_count": 13,
      "outputs": [
        {
          "output_type": "display_data",
          "data": {
            "text/plain": "[1] 0.09615385 0.17857143 0.32258065 0.15625000 0.04608295",
            "text/latex": "\\begin{enumerate*}\n\\item 0.0961538461538461\n\\item 0.178571428571429\n\\item 0.32258064516129\n\\item 0.15625\n\\item 0.0460829493087558\n\\end{enumerate*}\n",
            "text/markdown": "1. 0.0961538461538461\n2. 0.178571428571429\n3. 0.32258064516129\n4. 0.15625\n5. 0.0460829493087558\n\n\n",
            "text/html": "<ol class=list-inline>\n\t<li>0.0961538461538461</li>\n\t<li>0.178571428571429</li>\n\t<li>0.32258064516129</li>\n\t<li>0.15625</li>\n\t<li>0.0460829493087558</li>\n</ol>\n"
          },
          "metadata": {}
        }
      ]
    },
    {
      "metadata": {},
      "cell_type": "markdown",
      "source": "The following code creates a vector `y` with 11 entries consisting of two copies of x with a zero in the middle place."
    },
    {
      "metadata": {
        "trusted": true
      },
      "cell_type": "code",
      "source": "y <- c(x, 0, x)\ny",
      "execution_count": 14,
      "outputs": [
        {
          "output_type": "display_data",
          "data": {
            "text/plain": " [1] 10.4  5.6  3.1  6.4 21.7  0.0 10.4  5.6  3.1  6.4 21.7",
            "text/latex": "\\begin{enumerate*}\n\\item 10.4\n\\item 5.6\n\\item 3.1\n\\item 6.4\n\\item 21.7\n\\item 0\n\\item 10.4\n\\item 5.6\n\\item 3.1\n\\item 6.4\n\\item 21.7\n\\end{enumerate*}\n",
            "text/markdown": "1. 10.4\n2. 5.6\n3. 3.1\n4. 6.4\n5. 21.7\n6. 0\n7. 10.4\n8. 5.6\n9. 3.1\n10. 6.4\n11. 21.7\n\n\n",
            "text/html": "<ol class=list-inline>\n\t<li>10.4</li>\n\t<li>5.6</li>\n\t<li>3.1</li>\n\t<li>6.4</li>\n\t<li>21.7</li>\n\t<li>0</li>\n\t<li>10.4</li>\n\t<li>5.6</li>\n\t<li>3.1</li>\n\t<li>6.4</li>\n\t<li>21.7</li>\n</ol>\n"
          },
          "metadata": {}
        }
      ]
    },
    {
      "metadata": {},
      "cell_type": "markdown",
      "source": "### Some other operations on vectors\n- `max` and `min` select the largest and smallest elements of a vector, respectively. \n- `length(x)` is the number of elements in `x`, \n- `sum(x)` gives the total of the elements in `x`, \n- `mean(x)` gives the mean (sum divided by length)\n- `sd(x)` gives the standard deviation"
    },
    {
      "metadata": {
        "trusted": true
      },
      "cell_type": "code",
      "source": "# For example\nmin(x)\nmax(x)\nlength(x)\nsum(x)\nmean(x)\nsd(x)",
      "execution_count": 15,
      "outputs": [
        {
          "output_type": "display_data",
          "data": {
            "text/plain": "[1] 3.1",
            "text/latex": "3.1",
            "text/markdown": "3.1",
            "text/html": "3.1"
          },
          "metadata": {}
        },
        {
          "output_type": "display_data",
          "data": {
            "text/plain": "[1] 21.7",
            "text/latex": "21.7",
            "text/markdown": "21.7",
            "text/html": "21.7"
          },
          "metadata": {}
        },
        {
          "output_type": "display_data",
          "data": {
            "text/plain": "[1] 5",
            "text/latex": "5",
            "text/markdown": "5",
            "text/html": "5"
          },
          "metadata": {}
        },
        {
          "output_type": "display_data",
          "data": {
            "text/plain": "[1] 47.2",
            "text/latex": "47.2",
            "text/markdown": "47.2",
            "text/html": "47.2"
          },
          "metadata": {}
        },
        {
          "output_type": "display_data",
          "data": {
            "text/plain": "[1] 9.44",
            "text/latex": "9.44",
            "text/markdown": "9.44",
            "text/html": "9.44"
          },
          "metadata": {}
        },
        {
          "output_type": "display_data",
          "data": {
            "text/plain": "[1] 7.33846",
            "text/latex": "7.3384603289791",
            "text/markdown": "7.3384603289791",
            "text/html": "7.3384603289791"
          },
          "metadata": {}
        }
      ]
    },
    {
      "metadata": {},
      "cell_type": "markdown",
      "source": "Help is also available for these, e.g. --"
    },
    {
      "metadata": {
        "trusted": true
      },
      "cell_type": "code",
      "source": "?mean",
      "execution_count": 16,
      "outputs": []
    },
    {
      "metadata": {},
      "cell_type": "markdown",
      "source": "In the help file you'll see that you can specify more than just `mean(x)`. \n\nFor example, you might enter `mean(x, trim=0.1)`. This would take the mean, but remove 10% of the data at the extremes. Like the median, it is sometimes used to remove the effect of outliers when giving a estimate of the average."
    },
    {
      "metadata": {
        "trusted": true
      },
      "cell_type": "code",
      "source": "#for example, suppose data are all 1 except for one, which is 1000\ny<-c(1,1,1,1,1,1,1,1,1,1000)\nmean(y)",
      "execution_count": 17,
      "outputs": [
        {
          "output_type": "display_data",
          "data": {
            "text/plain": "[1] 100.9",
            "text/latex": "100.9",
            "text/markdown": "100.9",
            "text/html": "100.9"
          },
          "metadata": {}
        }
      ]
    },
    {
      "metadata": {},
      "cell_type": "markdown",
      "source": "Which is perhaps not a good description of the average in the data (e.g. if 1000 is infeasible). If we trim the top and bottom (i.e. remove 20% of the data) then we get .."
    },
    {
      "metadata": {
        "trusted": true
      },
      "cell_type": "code",
      "source": "mean(y, trim=0.2)",
      "execution_count": 18,
      "outputs": [
        {
          "output_type": "display_data",
          "data": {
            "text/plain": "[1] 1",
            "text/latex": "1",
            "text/markdown": "1",
            "text/html": "1"
          },
          "metadata": {}
        }
      ]
    },
    {
      "metadata": {},
      "cell_type": "markdown",
      "source": "THe main point of this is that a function such as mean can sometimes have more than one `argument`. We gave `mean()` two arguments: `x` and `trim=0.2`. "
    },
    {
      "metadata": {},
      "cell_type": "markdown",
      "source": "**TASK FOR YOU** Create a code cell below. Create a vector with elements 1,2,3,4,5,60. Calculate the mean, and the trimmed mean where `trim=0.2`. Print out."
    },
    {
      "metadata": {},
      "cell_type": "markdown",
      "source": "## Logical variables\n\nAnother useful feature is logical quantities. The elements of a logical vector can have the values `TRUE`, `FALSE` (or `NA` for \"not available\"). \n"
    },
    {
      "metadata": {},
      "cell_type": "markdown",
      "source": "Logical vectors are generated by *conditions*. The following expression, for example, sets `temp` as a vector of the same length as `x` with values `FALSE` corresponding to elements of `x` where the condition is not met and `TRUE` where it is:"
    },
    {
      "metadata": {
        "trusted": true
      },
      "cell_type": "code",
      "source": "temp <- x > 13\ntemp\nx",
      "execution_count": 19,
      "outputs": [
        {
          "output_type": "display_data",
          "data": {
            "text/plain": "[1] FALSE FALSE FALSE FALSE  TRUE",
            "text/latex": "\\begin{enumerate*}\n\\item FALSE\n\\item FALSE\n\\item FALSE\n\\item FALSE\n\\item TRUE\n\\end{enumerate*}\n",
            "text/markdown": "1. FALSE\n2. FALSE\n3. FALSE\n4. FALSE\n5. TRUE\n\n\n",
            "text/html": "<ol class=list-inline>\n\t<li>FALSE</li>\n\t<li>FALSE</li>\n\t<li>FALSE</li>\n\t<li>FALSE</li>\n\t<li>TRUE</li>\n</ol>\n"
          },
          "metadata": {}
        },
        {
          "output_type": "display_data",
          "data": {
            "text/plain": "[1] 10.4  5.6  3.1  6.4 21.7",
            "text/latex": "\\begin{enumerate*}\n\\item 10.4\n\\item 5.6\n\\item 3.1\n\\item 6.4\n\\item 21.7\n\\end{enumerate*}\n",
            "text/markdown": "1. 10.4\n2. 5.6\n3. 3.1\n4. 6.4\n5. 21.7\n\n\n",
            "text/html": "<ol class=list-inline>\n\t<li>10.4</li>\n\t<li>5.6</li>\n\t<li>3.1</li>\n\t<li>6.4</li>\n\t<li>21.7</li>\n</ol>\n"
          },
          "metadata": {}
        }
      ]
    },
    {
      "metadata": {},
      "cell_type": "markdown",
      "source": "i.e. only the last element of x is greater than 13.\n\nThe basic logical operators are `<`, `<=`, `>`, `>=`, `==` for exact equality, and `!=` for inequality\n"
    },
    {
      "metadata": {
        "trusted": true
      },
      "cell_type": "code",
      "source": "#For example, does 2 equal 3?\n2 == 3",
      "execution_count": 20,
      "outputs": [
        {
          "output_type": "display_data",
          "data": {
            "text/plain": "[1] FALSE",
            "text/latex": "FALSE",
            "text/markdown": "FALSE",
            "text/html": "FALSE"
          },
          "metadata": {}
        }
      ]
    },
    {
      "metadata": {
        "trusted": true
      },
      "cell_type": "code",
      "source": "# Is 2 NOT EQUAL to 3?\n2!=3",
      "execution_count": 21,
      "outputs": [
        {
          "output_type": "display_data",
          "data": {
            "text/plain": "[1] TRUE",
            "text/latex": "TRUE",
            "text/markdown": "TRUE",
            "text/html": "TRUE"
          },
          "metadata": {}
        }
      ]
    },
    {
      "metadata": {},
      "cell_type": "markdown",
      "source": "**TASK FOR YOU** write code to test whether any of x equal 3.1?"
    },
    {
      "metadata": {
        "trusted": true
      },
      "cell_type": "code",
      "source": "# try to write the command here--",
      "execution_count": 22,
      "outputs": []
    },
    {
      "metadata": {},
      "cell_type": "markdown",
      "source": "## Missing values\n\nSometimes there will be missing value in your data. When an element or value is \"not available\" or a \"missing value\" you can reserve a place for it within a vector by assigning it the special value `NA`. In general, any operation on an `NA` becomes an `NA`. e.g NA + 1 = NA. The function `is.na(x)` gives a logical vector of the same size as `x` with value `TRUE` if and only if the corresponding element in `x` is `NA`:\n"
    },
    {
      "metadata": {
        "trusted": true
      },
      "cell_type": "code",
      "source": "z <- c(1:3,NA)\n\nz\n\nind <- is.na(z)\n\nind",
      "execution_count": 23,
      "outputs": [
        {
          "output_type": "display_data",
          "data": {
            "text/plain": "[1]  1  2  3 NA",
            "text/latex": "\\begin{enumerate*}\n\\item 1\n\\item 2\n\\item 3\n\\item <NA>\n\\end{enumerate*}\n",
            "text/markdown": "1. 1\n2. 2\n3. 3\n4. &lt;NA&gt;\n\n\n",
            "text/html": "<ol class=list-inline>\n\t<li>1</li>\n\t<li>2</li>\n\t<li>3</li>\n\t<li>&lt;NA&gt;</li>\n</ol>\n"
          },
          "metadata": {}
        },
        {
          "output_type": "display_data",
          "data": {
            "text/plain": "[1] FALSE FALSE FALSE  TRUE",
            "text/latex": "\\begin{enumerate*}\n\\item FALSE\n\\item FALSE\n\\item FALSE\n\\item TRUE\n\\end{enumerate*}\n",
            "text/markdown": "1. FALSE\n2. FALSE\n3. FALSE\n4. TRUE\n\n\n",
            "text/html": "<ol class=list-inline>\n\t<li>FALSE</li>\n\t<li>FALSE</li>\n\t<li>FALSE</li>\n\t<li>TRUE</li>\n</ol>\n"
          },
          "metadata": {}
        }
      ]
    },
    {
      "metadata": {},
      "cell_type": "markdown",
      "source": "There is also is a second kind of \"missing\" value, the NaN or not-a-number, which is produced by numerical computation that cannot be sensibly performed:"
    },
    {
      "metadata": {
        "trusted": true
      },
      "cell_type": "code",
      "source": "90/0\n0/0\nInf - Inf",
      "execution_count": 24,
      "outputs": [
        {
          "output_type": "display_data",
          "data": {
            "text/plain": "[1] Inf",
            "text/latex": "Inf",
            "text/markdown": "Inf",
            "text/html": "Inf"
          },
          "metadata": {}
        },
        {
          "output_type": "display_data",
          "data": {
            "text/plain": "[1] NaN",
            "text/latex": "NaN",
            "text/markdown": "NaN",
            "text/html": "NaN"
          },
          "metadata": {}
        },
        {
          "output_type": "display_data",
          "data": {
            "text/plain": "[1] NaN",
            "text/latex": "NaN",
            "text/markdown": "NaN",
            "text/html": "NaN"
          },
          "metadata": {}
        }
      ]
    },
    {
      "metadata": {},
      "cell_type": "markdown",
      "source": "**TASK FOR YOU** Create a vector with elements 1,2,3,4,NA. Calculate the mean using the function `mean()`, and see what happens."
    },
    {
      "metadata": {},
      "cell_type": "markdown",
      "source": "## Character vectors\n\nCharacter quantities and character vectors are used frequently in R, for example as plot labels. They're defined by a sequence of characters inside double quotes, for example:"
    },
    {
      "metadata": {
        "trusted": true
      },
      "cell_type": "code",
      "source": "\"x-values\"\n\"New iteration results\"",
      "execution_count": 25,
      "outputs": [
        {
          "output_type": "display_data",
          "data": {
            "text/plain": "[1] \"x-values\"",
            "text/latex": "'x-values'",
            "text/markdown": "'x-values'",
            "text/html": "'x-values'"
          },
          "metadata": {}
        },
        {
          "output_type": "display_data",
          "data": {
            "text/plain": "[1] \"New iteration results\"",
            "text/latex": "'New iteration results'",
            "text/markdown": "'New iteration results'",
            "text/html": "'New iteration results'"
          },
          "metadata": {}
        }
      ]
    },
    {
      "metadata": {},
      "cell_type": "markdown",
      "source": "As with numbers, character vectors may be concatenated into a vector using the `c()` function. \n"
    },
    {
      "metadata": {
        "trusted": true
      },
      "cell_type": "code",
      "source": "labs <- c(\"Label 1\", \"Label 2\")\nlabs",
      "execution_count": 26,
      "outputs": [
        {
          "output_type": "display_data",
          "data": {
            "text/plain": "[1] \"Label 1\" \"Label 2\"",
            "text/latex": "\\begin{enumerate*}\n\\item 'Label 1'\n\\item 'Label 2'\n\\end{enumerate*}\n",
            "text/markdown": "1. 'Label 1'\n2. 'Label 2'\n\n\n",
            "text/html": "<ol class=list-inline>\n\t<li>'Label 1'</li>\n\t<li>'Label 2'</li>\n</ol>\n"
          },
          "metadata": {}
        }
      ]
    },
    {
      "metadata": {},
      "cell_type": "markdown",
      "source": "**TASK FOR YOU** Add a code cell below and create a vector with the labels: red, blue, green. Print out."
    },
    {
      "metadata": {},
      "cell_type": "markdown",
      "source": "## Index vectors; selecting and modifying subsets of a data set\n\nSubsets of the elements of a vector may be selected by appending to the name of the vector an *index vector* in square brackets.  There are different ways to do this. We consider two.\n\n### (1) A logical vector\n\nIn this case the index vector should be the same length as the vector from which elements are to be selected. Values corresponding to `TRUE` in the index vector are selected and those corresponding to `FALSE` are omitted. For example, the following expression creates an object `y` which contains the non-missing values of `x`, in the same order. Note that if `x` has missing values, `y` is shorter than `x`."
    },
    {
      "metadata": {
        "trusted": true
      },
      "cell_type": "code",
      "source": "y <- x[!is.na(x)]\ny",
      "execution_count": 27,
      "outputs": [
        {
          "output_type": "display_data",
          "data": {
            "text/plain": "[1] 10.4  5.6  3.1  6.4 21.7",
            "text/latex": "\\begin{enumerate*}\n\\item 10.4\n\\item 5.6\n\\item 3.1\n\\item 6.4\n\\item 21.7\n\\end{enumerate*}\n",
            "text/markdown": "1. 10.4\n2. 5.6\n3. 3.1\n4. 6.4\n5. 21.7\n\n\n",
            "text/html": "<ol class=list-inline>\n\t<li>10.4</li>\n\t<li>5.6</li>\n\t<li>3.1</li>\n\t<li>6.4</li>\n\t<li>21.7</li>\n</ol>\n"
          },
          "metadata": {}
        }
      ]
    },
    {
      "metadata": {},
      "cell_type": "markdown",
      "source": "### (2) A vector of the positions wanted\n\nFor example:"
    },
    {
      "metadata": {
        "trusted": true
      },
      "cell_type": "code",
      "source": "x[2]    # The second component of x\nx[1:3] # Selects the first 3 elements of x \nx[c(1,2,3)] #Another way to select the first 3 elements of x",
      "execution_count": 28,
      "outputs": [
        {
          "output_type": "display_data",
          "data": {
            "text/plain": "[1] 5.6",
            "text/latex": "5.6",
            "text/markdown": "5.6",
            "text/html": "5.6"
          },
          "metadata": {}
        },
        {
          "output_type": "display_data",
          "data": {
            "text/plain": "[1] 10.4  5.6  3.1",
            "text/latex": "\\begin{enumerate*}\n\\item 10.4\n\\item 5.6\n\\item 3.1\n\\end{enumerate*}\n",
            "text/markdown": "1. 10.4\n2. 5.6\n3. 3.1\n\n\n",
            "text/html": "<ol class=list-inline>\n\t<li>10.4</li>\n\t<li>5.6</li>\n\t<li>3.1</li>\n</ol>\n"
          },
          "metadata": {}
        },
        {
          "output_type": "display_data",
          "data": {
            "text/plain": "[1] 10.4  5.6  3.1",
            "text/latex": "\\begin{enumerate*}\n\\item 10.4\n\\item 5.6\n\\item 3.1\n\\end{enumerate*}\n",
            "text/markdown": "1. 10.4\n2. 5.6\n3. 3.1\n\n\n",
            "text/html": "<ol class=list-inline>\n\t<li>10.4</li>\n\t<li>5.6</li>\n\t<li>3.1</li>\n</ol>\n"
          },
          "metadata": {}
        }
      ]
    },
    {
      "metadata": {},
      "cell_type": "markdown",
      "source": "**TASK FOR YOU** Select the 1st, 2nd and 4th element of `x` and print out."
    },
    {
      "metadata": {
        "trusted": true
      },
      "cell_type": "code",
      "source": "# Enter your code here",
      "execution_count": 29,
      "outputs": []
    },
    {
      "metadata": {},
      "cell_type": "markdown",
      "source": "## Other data structures\n\nVectors are an important type of object in R, and if you understand the above then it is easier to work with other structures. These two re quite useful to understand --\n\n- *Data frames* are matrix-like structures in which the columns can be of different types. Think of data frames as 'data matrices' with one row per observational unit but with (possibly) both numerical and categorical variables. Many experiments are best described by data frames: the treatments are categorical but the response is numeric. See [Data frames](https://cran.r-project.org/doc/manuals/r-release/R-intro.html#Data-frames).\n\n- *Factors* provide compact ways to handle categorical data. See [Factors](https://cran.r-project.org/doc/manuals/r-release/R-intro.html#Factors). "
    },
    {
      "metadata": {},
      "cell_type": "markdown",
      "source": "# A sample R session\n\nThe code in this walkthrough introduces you to various features of R for some basic data analysis. To begin with, we will use R to make up some data (simulation). We'll generate two random normal vectors of x- and y-coordinates where y = x + error"
    },
    {
      "metadata": {
        "trusted": true
      },
      "cell_type": "code",
      "source": "# the first data vector are 20 sampes from a standard Normal distribution (mean 0, sd 1)\nmyvar1 <- rnorm(20)\n\n# the second data vector are 20 samples equal to the first data vector plus the first data vector multiplied by another standard normal distribution. \nmyvar2 <- myvar1 + rnorm(20)\n\n# then we can put them into a data frame \ndummy <- data.frame(x=myvar1, y=myvar2)\n\n#and print out so you can see the data we made up\ndummy",
      "execution_count": 30,
      "outputs": [
        {
          "output_type": "display_data",
          "data": {
            "text/plain": "   x            y            \n1  -0.013221599 -0.0003837305\n2   0.861169985  0.6070364377\n3  -0.308432979  0.2738900904\n4   0.173185330 -0.0924330743\n5   0.141760798 -1.5935485478\n6  -1.017219606 -0.9742680249\n7  -0.793453762 -0.9465485948\n8   1.238868011  2.4153112444\n9  -0.640386400  0.1639749853\n10  0.323717941 -0.9462904678\n11 -0.588828443 -0.2499821515\n12  0.320672682  1.0456806353\n13  0.294444907  1.2973189192\n14  0.115835200 -1.8174116352\n15 -1.799339554 -2.3087854443\n16  0.002259104  0.8278932990\n17  0.686551194  1.3303439299\n18 -0.187251487 -0.8277230988\n19  0.163946466  0.2611269161\n20 -0.167559423  0.3810573756",
            "text/latex": "A data.frame: 20 x 2\n\\begin{tabular}{r|ll}\n x & y\\\\\n <dbl> & <dbl>\\\\\n\\hline\n\t -0.013221599 & -0.0003837305\\\\\n\t  0.861169985 &  0.6070364377\\\\\n\t -0.308432979 &  0.2738900904\\\\\n\t  0.173185330 & -0.0924330743\\\\\n\t  0.141760798 & -1.5935485478\\\\\n\t -1.017219606 & -0.9742680249\\\\\n\t -0.793453762 & -0.9465485948\\\\\n\t  1.238868011 &  2.4153112444\\\\\n\t -0.640386400 &  0.1639749853\\\\\n\t  0.323717941 & -0.9462904678\\\\\n\t -0.588828443 & -0.2499821515\\\\\n\t  0.320672682 &  1.0456806353\\\\\n\t  0.294444907 &  1.2973189192\\\\\n\t  0.115835200 & -1.8174116352\\\\\n\t -1.799339554 & -2.3087854443\\\\\n\t  0.002259104 &  0.8278932990\\\\\n\t  0.686551194 &  1.3303439299\\\\\n\t -0.187251487 & -0.8277230988\\\\\n\t  0.163946466 &  0.2611269161\\\\\n\t -0.167559423 &  0.3810573756\\\\\n\\end{tabular}\n",
            "text/markdown": "\nA data.frame: 20 x 2\n\n| x &lt;dbl&gt; | y &lt;dbl&gt; |\n|---|---|\n| -0.013221599 | -0.0003837305 |\n|  0.861169985 |  0.6070364377 |\n| -0.308432979 |  0.2738900904 |\n|  0.173185330 | -0.0924330743 |\n|  0.141760798 | -1.5935485478 |\n| -1.017219606 | -0.9742680249 |\n| -0.793453762 | -0.9465485948 |\n|  1.238868011 |  2.4153112444 |\n| -0.640386400 |  0.1639749853 |\n|  0.323717941 | -0.9462904678 |\n| -0.588828443 | -0.2499821515 |\n|  0.320672682 |  1.0456806353 |\n|  0.294444907 |  1.2973189192 |\n|  0.115835200 | -1.8174116352 |\n| -1.799339554 | -2.3087854443 |\n|  0.002259104 |  0.8278932990 |\n|  0.686551194 |  1.3303439299 |\n| -0.187251487 | -0.8277230988 |\n|  0.163946466 |  0.2611269161 |\n| -0.167559423 |  0.3810573756 |\n\n",
            "text/html": "<table>\n<caption>A data.frame: 20 x 2</caption>\n<thead>\n\t<tr><th scope=col>x</th><th scope=col>y</th></tr>\n\t<tr><th scope=col>&lt;dbl&gt;</th><th scope=col>&lt;dbl&gt;</th></tr>\n</thead>\n<tbody>\n\t<tr><td>-0.013221599</td><td>-0.0003837305</td></tr>\n\t<tr><td> 0.861169985</td><td> 0.6070364377</td></tr>\n\t<tr><td>-0.308432979</td><td> 0.2738900904</td></tr>\n\t<tr><td> 0.173185330</td><td>-0.0924330743</td></tr>\n\t<tr><td> 0.141760798</td><td>-1.5935485478</td></tr>\n\t<tr><td>-1.017219606</td><td>-0.9742680249</td></tr>\n\t<tr><td>-0.793453762</td><td>-0.9465485948</td></tr>\n\t<tr><td> 1.238868011</td><td> 2.4153112444</td></tr>\n\t<tr><td>-0.640386400</td><td> 0.1639749853</td></tr>\n\t<tr><td> 0.323717941</td><td>-0.9462904678</td></tr>\n\t<tr><td>-0.588828443</td><td>-0.2499821515</td></tr>\n\t<tr><td> 0.320672682</td><td> 1.0456806353</td></tr>\n\t<tr><td> 0.294444907</td><td> 1.2973189192</td></tr>\n\t<tr><td> 0.115835200</td><td>-1.8174116352</td></tr>\n\t<tr><td>-1.799339554</td><td>-2.3087854443</td></tr>\n\t<tr><td> 0.002259104</td><td> 0.8278932990</td></tr>\n\t<tr><td> 0.686551194</td><td> 1.3303439299</td></tr>\n\t<tr><td>-0.187251487</td><td>-0.8277230988</td></tr>\n\t<tr><td> 0.163946466</td><td> 0.2611269161</td></tr>\n\t<tr><td>-0.167559423</td><td> 0.3810573756</td></tr>\n</tbody>\n</table>\n"
          },
          "metadata": {}
        }
      ]
    },
    {
      "metadata": {},
      "cell_type": "markdown",
      "source": "Every time you run this, you'll get different numbers in your table (new simulation is run).\n\nLets get a quick summary of these data"
    },
    {
      "metadata": {
        "trusted": true
      },
      "cell_type": "code",
      "source": "# A quick way to get summary statistics of columns in the data frame\nsummary(dummy)",
      "execution_count": 31,
      "outputs": [
        {
          "output_type": "display_data",
          "data": {
            "text/plain": "       x                  y           \n Min.   :-1.79934   Min.   :-2.30879  \n 1st Qu.:-0.37853   1st Qu.:-0.94635  \n Median : 0.05905   Median : 0.08180  \n Mean   :-0.05966   Mean   :-0.05769  \n 3rd Qu.: 0.30100   3rd Qu.: 0.66225  \n Max.   : 1.23887   Max.   : 2.41531  "
          },
          "metadata": {}
        }
      ]
    },
    {
      "metadata": {},
      "cell_type": "markdown",
      "source": "This tells us the minimm, maximum, median, mean, 1st quantile (75% of data above this point) and 3rd quantile (25% of data above this point) for our `x` and `y` columns, that we made up.\n\nWe can also do this one statistic at a time. For example:"
    },
    {
      "metadata": {
        "trusted": true
      },
      "cell_type": "code",
      "source": "#To access each column we use a dollar sign\n#e.g. x\ndummy$x",
      "execution_count": 32,
      "outputs": [
        {
          "output_type": "display_data",
          "data": {
            "text/plain": " [1] -0.013221599  0.861169985 -0.308432979  0.173185330  0.141760798\n [6] -1.017219606 -0.793453762  1.238868011 -0.640386400  0.323717941\n[11] -0.588828443  0.320672682  0.294444907  0.115835200 -1.799339554\n[16]  0.002259104  0.686551194 -0.187251487  0.163946466 -0.167559423",
            "text/latex": "\\begin{enumerate*}\n\\item -0.013221598936992\n\\item 0.861169984990768\n\\item -0.308432979409301\n\\item 0.173185330451572\n\\item 0.141760797788297\n\\item -1.01721960553836\n\\item -0.793453762166173\n\\item 1.23886801134092\n\\item -0.640386400424289\n\\item 0.323717941088707\n\\item -0.588828443068431\n\\item 0.320672681784932\n\\item 0.294444907432546\n\\item 0.115835200113869\n\\item -1.79933955376848\n\\item 0.00225910353315946\n\\item 0.686551194119339\n\\item -0.187251487277031\n\\item 0.163946465529956\n\\item -0.167559423138189\n\\end{enumerate*}\n",
            "text/markdown": "1. -0.013221598936992\n2. 0.861169984990768\n3. -0.308432979409301\n4. 0.173185330451572\n5. 0.141760797788297\n6. -1.01721960553836\n7. -0.793453762166173\n8. 1.23886801134092\n9. -0.640386400424289\n10. 0.323717941088707\n11. -0.588828443068431\n12. 0.320672681784932\n13. 0.294444907432546\n14. 0.115835200113869\n15. -1.79933955376848\n16. 0.00225910353315946\n17. 0.686551194119339\n18. -0.187251487277031\n19. 0.163946465529956\n20. -0.167559423138189\n\n\n",
            "text/html": "<ol class=list-inline>\n\t<li>-0.013221598936992</li>\n\t<li>0.861169984990768</li>\n\t<li>-0.308432979409301</li>\n\t<li>0.173185330451572</li>\n\t<li>0.141760797788297</li>\n\t<li>-1.01721960553836</li>\n\t<li>-0.793453762166173</li>\n\t<li>1.23886801134092</li>\n\t<li>-0.640386400424289</li>\n\t<li>0.323717941088707</li>\n\t<li>-0.588828443068431</li>\n\t<li>0.320672681784932</li>\n\t<li>0.294444907432546</li>\n\t<li>0.115835200113869</li>\n\t<li>-1.79933955376848</li>\n\t<li>0.00225910353315946</li>\n\t<li>0.686551194119339</li>\n\t<li>-0.187251487277031</li>\n\t<li>0.163946465529956</li>\n\t<li>-0.167559423138189</li>\n</ol>\n"
          },
          "metadata": {}
        }
      ]
    },
    {
      "metadata": {},
      "cell_type": "markdown",
      "source": "**TASK FOR YOU** Print out summary statistics for x only"
    },
    {
      "metadata": {
        "trusted": true
      },
      "cell_type": "code",
      "source": "# Enter your code here",
      "execution_count": 33,
      "outputs": []
    },
    {
      "metadata": {
        "trusted": true
      },
      "cell_type": "code",
      "source": "#another way to get mean of x\nmean(dummy$x)",
      "execution_count": 34,
      "outputs": [
        {
          "output_type": "display_data",
          "data": {
            "text/plain": "[1] -0.05966408",
            "text/latex": "-0.0596640817776593",
            "text/markdown": "-0.0596640817776593",
            "text/html": "-0.0596640817776593"
          },
          "metadata": {}
        }
      ]
    },
    {
      "metadata": {
        "trusted": true
      },
      "cell_type": "code",
      "source": "#mean of first 10 values of y\nmean(dummy$y[1:10])",
      "execution_count": 35,
      "outputs": [
        {
          "output_type": "display_data",
          "data": {
            "text/plain": "[1] -0.109326",
            "text/latex": "-0.109325968223096",
            "text/markdown": "-0.109325968223096",
            "text/html": "-0.109325968223096"
          },
          "metadata": {}
        }
      ]
    },
    {
      "metadata": {},
      "cell_type": "markdown",
      "source": "We may also calculate correlation coefficients between x and y as follows."
    },
    {
      "metadata": {
        "trusted": true
      },
      "cell_type": "code",
      "source": "cor.test(dummy$x, dummy$y)",
      "execution_count": 36,
      "outputs": [
        {
          "output_type": "display_data",
          "data": {
            "text/plain": "\n\tPearson's product-moment correlation\n\ndata:  dummy$x and dummy$y\nt = 3.8698, df = 18, p-value = 0.001122\nalternative hypothesis: true correlation is not equal to 0\n95 percent confidence interval:\n 0.3297016 0.8599664\nsample estimates:\n      cor \n0.6739004 \n"
          },
          "metadata": {}
        }
      ]
    },
    {
      "metadata": {
        "trusted": true
      },
      "cell_type": "code",
      "source": "cor.test(dummy$x, dummy$y, method=\"spearman\")",
      "execution_count": 37,
      "outputs": [
        {
          "output_type": "display_data",
          "data": {
            "text/plain": "\n\tSpearman's rank correlation rho\n\ndata:  dummy$x and dummy$y\nS = 524, p-value = 0.005492\nalternative hypothesis: true rho is not equal to 0\nsample estimates:\n     rho \n0.606015 \n"
          },
          "metadata": {}
        }
      ]
    },
    {
      "metadata": {},
      "cell_type": "markdown",
      "source": "**TASK FOR YOU** Calculate Pearson correlation between x and itself (should be 1)"
    },
    {
      "metadata": {
        "trusted": true
      },
      "cell_type": "code",
      "source": "#Enter your code here",
      "execution_count": 38,
      "outputs": []
    },
    {
      "metadata": {},
      "cell_type": "markdown",
      "source": "# Plots\n\nOne way to do plots is to generate a graphics file. We'll generate PNG files, but you can generate many other types in a similar way (e.g. PDF, EPS, JPEG; e.g. use pdf() instead of png(); ?pdf for furter help)"
    },
    {
      "metadata": {
        "trusted": true
      },
      "cell_type": "code",
      "source": "\n#To save a graphic you first need to open the file (called 'plot1.png' here)\npng('plots/plot1.png')\n\n##Then you make the chart.\n##This is a standard R scatterplot\nplot(dummy$x, dummy$y)\n\n## Then - important - close the file using 'dev.off()'\ndev.off()",
      "execution_count": 39,
      "outputs": [
        {
          "output_type": "display_data",
          "data": {
            "text/plain": "png \n  2 ",
            "text/latex": "\\textbf{png:} 2",
            "text/markdown": "**png:** 2",
            "text/html": "<strong>png:</strong> 2"
          },
          "metadata": {}
        }
      ]
    },
    {
      "metadata": {},
      "cell_type": "markdown",
      "source": "Then show the chart 'plot1.png' in a markdown cell via (click edit to see the code for this if you see a chart already) --\n![title](plots/plot1.png)"
    },
    {
      "metadata": {},
      "cell_type": "markdown",
      "source": "(You can also use the plot in other software - it has been saved onto your cloud storage for the project.)"
    },
    {
      "metadata": {
        "trusted": true
      },
      "cell_type": "code",
      "source": "# Now lets repeat, but add some labels \n\n#To save a graphic you first need to open the file (lets save as a pdf this time called 'plot1b.pdf' here)\npdf('plot1b.pdf')\n\n##Then you make the chart.\n##This is a standard R scatterplot, but now we've added some labels to the plot\nplot(dummy$x, dummy$y, xlab=\"TEMPERATURE\", ylab=\"CONSUMPTION OF CHOCOLATE ICE CREAM\", main=\"I love ice cream when it is hot\")\n\n## Then - important - close the file using 'dev.off()'\ndev.off()",
      "execution_count": 40,
      "outputs": [
        {
          "output_type": "display_data",
          "data": {
            "text/plain": "png \n  2 ",
            "text/latex": "\\textbf{png:} 2",
            "text/markdown": "**png:** 2",
            "text/html": "<strong>png:</strong> 2"
          },
          "metadata": {}
        }
      ]
    },
    {
      "metadata": {},
      "cell_type": "markdown",
      "source": "So now you can produce a simple scatter plot in R and save it as a png or a pdf file. e.g. You can import png files into Word. You can open the PDF using a viewer like Adobe acrobat - it will be saved in your cloud storage associated with this notebook."
    },
    {
      "metadata": {
        "trusted": true
      },
      "cell_type": "markdown",
      "source": "**TASK FOR YOU** Create a PNG file that has the same plot as the PDF file. Save your file as 'plots/plot1-updated.png'"
    },
    {
      "metadata": {
        "trusted": true
      },
      "cell_type": "code",
      "source": "#Enter your code here",
      "execution_count": 41,
      "outputs": []
    },
    {
      "metadata": {},
      "cell_type": "markdown",
      "source": "**TASK FOR YOU** Create a new markdown cell and include the plot by coping the below markdown code:\n```markdown\n![new plot](plots/plot1-updated.png)\n```"
    },
    {
      "metadata": {},
      "cell_type": "markdown",
      "source": "*Replace this with your markdown*"
    },
    {
      "metadata": {
        "trusted": true
      },
      "cell_type": "code",
      "source": "",
      "execution_count": null,
      "outputs": []
    }
  ],
  "metadata": {
    "kernelspec": {
      "name": "r",
      "display_name": "R",
      "language": "R"
    },
    "language_info": {
      "mimetype": "text/x-r-source",
      "name": "R",
      "pygments_lexer": "r",
      "version": "3.5.3",
      "file_extension": ".r",
      "codemirror_mode": "r"
    }
  },
  "nbformat": 4,
  "nbformat_minor": 1
}