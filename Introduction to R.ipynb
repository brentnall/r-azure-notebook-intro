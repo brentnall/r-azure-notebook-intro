{
  "cells": [
    {
      "metadata": {},
      "cell_type": "markdown",
      "source": "<div style=\"text-align: center\"><img width=150px src=\"http://upload.wikimedia.org/wikipedia/commons/thumb/1/1b/R_logo.svg/200px-R_logo.svg.png\"></div>"
    },
    {
      "metadata": {},
      "cell_type": "markdown",
      "source": "# An introduction to R and notebooks\n\nR is a language for statistical computing and graphics. It is distributed for free (under the GNU General Public License) and used by many people around the world to analyse data.  \n\nYou can learn more about R at [r-project.org](https://www.r-project.org/about.html) and [An Introduction to R](https://cran.r-project.org/doc/manuals/r-release/R-intro.html).\n\nUse of an analysis notebooks helps you to make your research reproducible, and reduces the chance of making errors (such as transcribing numbers from analysis to report). It also means that if, for some reason, your data are updated then all the analysis can be re-run automatically without having to keep pointing and clicking through multiple menus (e.g. as you would do if using alternative software such as SPSS, Prism etc). \n\nThis notebook demonstrates R within a Jupyter notebook, adapting some material from the Microsoft Azure tutorial for R notebooks. \n\n(NB: although we'll use an R notebook note this is not required to use R for statistical analysis. e.g. You could download it and run it on your computer instead. All you need is available at [r-project.org](https://www.r-project.org/about.html). If you want to install on your computer then a popular add-on some people like is [RStudio](https://www.rstudio.com/products/rstudio/download) (described as \"a set of integrated tools designed to help you be more productive with R\").)"
    },
    {
      "metadata": {},
      "cell_type": "markdown",
      "source": "# Get started\n\n- First go to Microsoft Azure Notebooks [notebookes.azure.com](https://notebooks.azure.com/).\n- Follow the link to **Sign In**\n- Use your university account (xxx@qmul.ac.uk) to log in (same account that you use to check QMUL email)\n- To access this tutorial go to your projects and select 'Upload GitHub Repo' button\n- Enter [https://github.com/brentnall/r-azure-notebook-intro](https://github.com/brentnall/r-azure-notebook-intro) into the GitHub repository \n- Given your project a name (e.g. r-intro)\n- Then import. This will copy it into your azure storage.\n- Once in your storage, open the project you just cloned (Introduction to R)\n- To view the notebook click on the file \"Introduction to R.ipynb\"\n- You will then be able to edit, change and follow the instructions below on your own copy\n"
    },
    {
      "metadata": {},
      "cell_type": "markdown",
      "source": "# Notebook basics\n\nThere are two basic types of 'cells' that we're going to use in our Jupyter notebook. \n\n- Markdown\n- Code \n\nMarkdown is where you write your text, or tell the notebook to display an image.\nCode is where you do you analysis (in R for us). You choose the type of cell using the menu above\n\n![title](menu.png)\n\nThis is a markdown cell. \n- When it has been 'run' it will look nice, and the first line will look like a title, without two has symbols in front. \n- When it is being edited it will have a box around it. \n- When it has not been edited, but not yet (re)run you'll see the hash symbols still etc. In general, if not run then markdown cells won't have nice formatting, and code cells won't have any output. \n\nTo choose the type of cell (markdown or code) select the box at the top in the menu, and change the selection. Of course code might cause problems in a markdown cell, and vice versa. So you need to make sure you have the right type of cell for what you are entering.\n\nTo get each cell to format or run, click the \"Run\" button (to the left of the markdown/code selction) after editing it. \n\nTo run all the cells again from the start to the end hit the >> button."
    },
    {
      "metadata": {},
      "cell_type": "markdown",
      "source": "# Using R\n\n\n## Your first R command\n\nThe cell below this is the first code cell in this notebook, and it runs a simple command in R"
    },
    {
      "metadata": {
        "trusted": true
      },
      "cell_type": "code",
      "source": "# In a code cell the hashtag means comment - anything after it does not do anything\nprint(\"hello world\")",
      "execution_count": 1,
      "outputs": [
        {
          "output_type": "stream",
          "text": "[1] \"hello world\"\n",
          "name": "stdout"
        }
      ]
    },
    {
      "metadata": {},
      "cell_type": "markdown",
      "source": "** TASK FOR YOU ** Try to repeat what was just done in the code cell by entering a new code cell below this (select this cell, then go to menu option: Insert), and write the code in R to print out \"why did the chicken cross the road?\" "
    },
    {
      "metadata": {},
      "cell_type": "markdown",
      "source": "## R as a calculator \n\nYou can use R like a calculator. For example 10 times 20 = ?"
    },
    {
      "metadata": {
        "trusted": true
      },
      "cell_type": "code",
      "source": "10 * 20",
      "execution_count": 2,
      "outputs": [
        {
          "output_type": "display_data",
          "data": {
            "text/plain": "[1] 200",
            "text/latex": "200",
            "text/markdown": "200",
            "text/html": "200"
          },
          "metadata": {}
        }
      ]
    },
    {
      "metadata": {
        "trusted": true
      },
      "cell_type": "code",
      "source": "# Division example\n2/3",
      "execution_count": 3,
      "outputs": [
        {
          "output_type": "display_data",
          "data": {
            "text/plain": "[1] 0.6666667",
            "text/latex": "0.666666666666667",
            "text/markdown": "0.666666666666667",
            "text/html": "0.666666666666667"
          },
          "metadata": {}
        }
      ]
    },
    {
      "metadata": {},
      "cell_type": "markdown",
      "source": "** TASK FOR YOU ** How would you add 123 + 125 and get the answer printed out? "
    },
    {
      "metadata": {
        "trusted": true
      },
      "cell_type": "code",
      "source": "#enter your code below and then click run",
      "execution_count": 4,
      "outputs": []
    },
    {
      "metadata": {},
      "cell_type": "markdown",
      "source": "The elementary arithmetic operators are the usual `+`, `-`, `*`, `/`, and `^` (raise to a power), along with all the common arithmetic functions: `log`, `exp`, `sin`, `cos`, `tan`, `sqrt`, and so on."
    },
    {
      "metadata": {
        "trusted": true
      },
      "cell_type": "code",
      "source": "#e.g.the square root of 4 is what?\nsqrt(4)",
      "execution_count": 5,
      "outputs": [
        {
          "output_type": "display_data",
          "data": {
            "text/plain": "[1] 2",
            "text/latex": "2",
            "text/markdown": "2",
            "text/html": "2"
          },
          "metadata": {}
        }
      ]
    },
    {
      "metadata": {},
      "cell_type": "markdown",
      "source": "**TASK FOR YOU** write code below to calculate the square of 2 and print it out"
    },
    {
      "metadata": {
        "trusted": true
      },
      "cell_type": "code",
      "source": "#write your code below and then hit run",
      "execution_count": 6,
      "outputs": []
    },
    {
      "metadata": {},
      "cell_type": "markdown",
      "source": "## Saving values"
    },
    {
      "metadata": {},
      "cell_type": "markdown",
      "source": "In R we can also save or 'assign' values to an 'object'. This is very useful and needed for more complex analysis. "
    },
    {
      "metadata": {
        "trusted": true
      },
      "cell_type": "code",
      "source": "# For example\nmyval <- 2/3",
      "execution_count": 7,
      "outputs": []
    },
    {
      "metadata": {},
      "cell_type": "markdown",
      "source": "** TASK FOR YOU ** Write the code to print out `myval`"
    },
    {
      "metadata": {
        "trusted": true
      },
      "cell_type": "code",
      "source": "# enter your code here and run it",
      "execution_count": 8,
      "outputs": []
    },
    {
      "metadata": {},
      "cell_type": "markdown",
      "source": "\n## Vectors and assignment\n\nR is more advanced than a calculator. More generally R operates on named *data structures*. This is jargon, but worth learning in order to follow the help files in R.\n\nThe simplest *data structure* is the numeric *vector*, which is an ordered collection of numbers (and the most simple vector is just a number - a vector with length 1). \n\nTo set up a vector named `x`, say, consisting of five numbers, namely 10.4, 5.6, 3.1, 6.4 and 21.7, use the following R command:"
    },
    {
      "metadata": {
        "trusted": true
      },
      "cell_type": "code",
      "source": "x <- c(10.4, 5.6, 3.1, 6.4, 21.7)",
      "execution_count": 9,
      "outputs": []
    },
    {
      "metadata": {},
      "cell_type": "markdown",
      "source": "As we saw above, in a notebook, the previous cell won't show any output. You can see the contents of `x` by simple running `x` in a code cell:"
    },
    {
      "metadata": {
        "trusted": true
      },
      "cell_type": "code",
      "source": "x",
      "execution_count": 10,
      "outputs": [
        {
          "output_type": "display_data",
          "data": {
            "text/plain": "[1] 10.4  5.6  3.1  6.4 21.7",
            "text/latex": "\\begin{enumerate*}\n\\item 10.4\n\\item 5.6\n\\item 3.1\n\\item 6.4\n\\item 21.7\n\\end{enumerate*}\n",
            "text/markdown": "1. 10.4\n2. 5.6\n3. 3.1\n4. 6.4\n5. 21.7\n\n\n",
            "text/html": "<ol class=list-inline>\n\t<li>10.4</li>\n\t<li>5.6</li>\n\t<li>3.1</li>\n\t<li>6.4</li>\n\t<li>21.7</li>\n</ol>\n"
          },
          "metadata": {}
        }
      ]
    },
    {
      "metadata": {},
      "cell_type": "markdown",
      "source": "`c()` is a type of *function* . This function puts the numbers together into a vector (`c` stands for concatenation).\n\nThe assignment operator (`<-`) consists of the two characters, `<` (\"less than\") and '-' (\"minus\") occurring strictly side-by-side. It looks like the point of an arrow to the object receiving the value of the expression. It is equivalent to '=', and if you like, you can just use '=' instead.\n\n"
    },
    {
      "metadata": {},
      "cell_type": "markdown",
      "source": "** TASK FOR YOU ** Now try to repeat what we did. Enter a vector called `x2` with elements 1,2,3,4, and print it out "
    },
    {
      "metadata": {
        "trusted": true
      },
      "cell_type": "code",
      "source": "##Enter your code here and then run it",
      "execution_count": 11,
      "outputs": []
    },
    {
      "metadata": {},
      "cell_type": "markdown",
      "source": "One nice thing about R is it is easy to get help. For example, suppose you forgot what c() does. You would do this by entering ?c . \n** TASK FOR YOU ** Get the R help file for c() by entering ?c "
    },
    {
      "metadata": {
        "trusted": true
      },
      "cell_type": "code",
      "source": "#Enter ?c then click run to get help on the function c()",
      "execution_count": 12,
      "outputs": []
    },
    {
      "metadata": {},
      "cell_type": "markdown",
      "source": "Examples at the bottom of the help file are often the most practically useful part of the help file. They show you how it can be used."
    },
    {
      "metadata": {},
      "cell_type": "markdown",
      "source": "### Some maths using vectors\n\nYou can also do some maths using the vector, as we did for numbers above. For example, the following statement displays the reciprocals of the values in `x` (but doesn't assign those values to any variable):"
    },
    {
      "metadata": {
        "trusted": true
      },
      "cell_type": "code",
      "source": "1/x",
      "execution_count": 13,
      "outputs": [
        {
          "output_type": "display_data",
          "data": {
            "text/plain": "[1] 0.09615385 0.17857143 0.32258065 0.15625000 0.04608295",
            "text/latex": "\\begin{enumerate*}\n\\item 0.0961538461538461\n\\item 0.178571428571429\n\\item 0.32258064516129\n\\item 0.15625\n\\item 0.0460829493087558\n\\end{enumerate*}\n",
            "text/markdown": "1. 0.0961538461538461\n2. 0.178571428571429\n3. 0.32258064516129\n4. 0.15625\n5. 0.0460829493087558\n\n\n",
            "text/html": "<ol class=list-inline>\n\t<li>0.0961538461538461</li>\n\t<li>0.178571428571429</li>\n\t<li>0.32258064516129</li>\n\t<li>0.15625</li>\n\t<li>0.0460829493087558</li>\n</ol>\n"
          },
          "metadata": {}
        }
      ]
    },
    {
      "metadata": {},
      "cell_type": "markdown",
      "source": "The following code creates a vector `y` with 11 entries consisting of two copies of x with a zero in the middle place."
    },
    {
      "metadata": {
        "trusted": true
      },
      "cell_type": "code",
      "source": "y <- c(x, 0, x)\ny",
      "execution_count": 14,
      "outputs": [
        {
          "output_type": "display_data",
          "data": {
            "text/plain": " [1] 10.4  5.6  3.1  6.4 21.7  0.0 10.4  5.6  3.1  6.4 21.7",
            "text/latex": "\\begin{enumerate*}\n\\item 10.4\n\\item 5.6\n\\item 3.1\n\\item 6.4\n\\item 21.7\n\\item 0\n\\item 10.4\n\\item 5.6\n\\item 3.1\n\\item 6.4\n\\item 21.7\n\\end{enumerate*}\n",
            "text/markdown": "1. 10.4\n2. 5.6\n3. 3.1\n4. 6.4\n5. 21.7\n6. 0\n7. 10.4\n8. 5.6\n9. 3.1\n10. 6.4\n11. 21.7\n\n\n",
            "text/html": "<ol class=list-inline>\n\t<li>10.4</li>\n\t<li>5.6</li>\n\t<li>3.1</li>\n\t<li>6.4</li>\n\t<li>21.7</li>\n\t<li>0</li>\n\t<li>10.4</li>\n\t<li>5.6</li>\n\t<li>3.1</li>\n\t<li>6.4</li>\n\t<li>21.7</li>\n</ol>\n"
          },
          "metadata": {}
        }
      ]
    },
    {
      "metadata": {},
      "cell_type": "markdown",
      "source": "### Some other operations on vectors\n- `max` and `min` select the largest and smallest elements of a vector, respectively. \n- `length(x)` is the number of elements in `x`, \n- `sum(x)` gives the total of the elements in `x`, \n- `mean(x)` gives the mean (sum divided by length)\n- `sd(x)` gives the standard deviation"
    },
    {
      "metadata": {
        "trusted": true
      },
      "cell_type": "code",
      "source": "# For example\nmin(x)\nmax(x)\nlength(x)\nsum(x)\nmean(x)\nsd(x)",
      "execution_count": 15,
      "outputs": [
        {
          "output_type": "display_data",
          "data": {
            "text/plain": "[1] 3.1",
            "text/latex": "3.1",
            "text/markdown": "3.1",
            "text/html": "3.1"
          },
          "metadata": {}
        },
        {
          "output_type": "display_data",
          "data": {
            "text/plain": "[1] 21.7",
            "text/latex": "21.7",
            "text/markdown": "21.7",
            "text/html": "21.7"
          },
          "metadata": {}
        },
        {
          "output_type": "display_data",
          "data": {
            "text/plain": "[1] 5",
            "text/latex": "5",
            "text/markdown": "5",
            "text/html": "5"
          },
          "metadata": {}
        },
        {
          "output_type": "display_data",
          "data": {
            "text/plain": "[1] 47.2",
            "text/latex": "47.2",
            "text/markdown": "47.2",
            "text/html": "47.2"
          },
          "metadata": {}
        },
        {
          "output_type": "display_data",
          "data": {
            "text/plain": "[1] 9.44",
            "text/latex": "9.44",
            "text/markdown": "9.44",
            "text/html": "9.44"
          },
          "metadata": {}
        },
        {
          "output_type": "display_data",
          "data": {
            "text/plain": "[1] 7.33846",
            "text/latex": "7.3384603289791",
            "text/markdown": "7.3384603289791",
            "text/html": "7.3384603289791"
          },
          "metadata": {}
        }
      ]
    },
    {
      "metadata": {},
      "cell_type": "markdown",
      "source": "Help is also available for these, e.g. --"
    },
    {
      "metadata": {
        "trusted": true
      },
      "cell_type": "code",
      "source": "?mean",
      "execution_count": 16,
      "outputs": []
    },
    {
      "metadata": {},
      "cell_type": "markdown",
      "source": "In the help file you'll see that you can specify more than just `mean(x)`. \n\nFor example, you might enter `mean(x, trim=0.1)`. This would take the mean, but remove 10% of the data at the extremes. Like the median, it is sometimes used to remove the effect of outliers when giving a estimate of the average."
    },
    {
      "metadata": {
        "trusted": true
      },
      "cell_type": "code",
      "source": "#for example, suppose data are all 1 except for one, which is 1000\ny<-c(1,1,1,1,1,1,1,1,1,1000)\nmean(y)",
      "execution_count": 17,
      "outputs": [
        {
          "output_type": "display_data",
          "data": {
            "text/plain": "[1] 100.9",
            "text/latex": "100.9",
            "text/markdown": "100.9",
            "text/html": "100.9"
          },
          "metadata": {}
        }
      ]
    },
    {
      "metadata": {},
      "cell_type": "markdown",
      "source": "Which is perhaps not a good description of the average in the data (e.g. if 1000 is infeasible). If we trim the top and bottom (i.e. remove 20% of the data) then we get .."
    },
    {
      "metadata": {
        "trusted": true
      },
      "cell_type": "code",
      "source": "mean(y, trim=0.2)",
      "execution_count": 18,
      "outputs": [
        {
          "output_type": "display_data",
          "data": {
            "text/plain": "[1] 1",
            "text/latex": "1",
            "text/markdown": "1",
            "text/html": "1"
          },
          "metadata": {}
        }
      ]
    },
    {
      "metadata": {},
      "cell_type": "markdown",
      "source": "THe main point of this is that a function such as mean can sometimes have more than one `argument`. We gave `mean()` two arguments: `x` and `trim=0.2`. "
    },
    {
      "metadata": {},
      "cell_type": "markdown",
      "source": "## Logical variables\n\nAnother useful feature is logical quantities. The elements of a logical vector can have the values `TRUE`, `FALSE` (or `NA` for \"not available\"). \n"
    },
    {
      "metadata": {},
      "cell_type": "markdown",
      "source": "Logical vectors are generated by *conditions*. The following expression, for example, sets `temp` as a vector of the same length as `x` with values `FALSE` corresponding to elements of `x` where the condition is not met and `TRUE` where it is:"
    },
    {
      "metadata": {
        "trusted": true
      },
      "cell_type": "code",
      "source": "temp <- x > 13\ntemp\nx",
      "execution_count": 19,
      "outputs": [
        {
          "output_type": "display_data",
          "data": {
            "text/plain": "[1] FALSE FALSE FALSE FALSE  TRUE",
            "text/latex": "\\begin{enumerate*}\n\\item FALSE\n\\item FALSE\n\\item FALSE\n\\item FALSE\n\\item TRUE\n\\end{enumerate*}\n",
            "text/markdown": "1. FALSE\n2. FALSE\n3. FALSE\n4. FALSE\n5. TRUE\n\n\n",
            "text/html": "<ol class=list-inline>\n\t<li>FALSE</li>\n\t<li>FALSE</li>\n\t<li>FALSE</li>\n\t<li>FALSE</li>\n\t<li>TRUE</li>\n</ol>\n"
          },
          "metadata": {}
        },
        {
          "output_type": "display_data",
          "data": {
            "text/plain": "[1] 10.4  5.6  3.1  6.4 21.7",
            "text/latex": "\\begin{enumerate*}\n\\item 10.4\n\\item 5.6\n\\item 3.1\n\\item 6.4\n\\item 21.7\n\\end{enumerate*}\n",
            "text/markdown": "1. 10.4\n2. 5.6\n3. 3.1\n4. 6.4\n5. 21.7\n\n\n",
            "text/html": "<ol class=list-inline>\n\t<li>10.4</li>\n\t<li>5.6</li>\n\t<li>3.1</li>\n\t<li>6.4</li>\n\t<li>21.7</li>\n</ol>\n"
          },
          "metadata": {}
        }
      ]
    },
    {
      "metadata": {},
      "cell_type": "markdown",
      "source": "i.e. only the last element of x is greater than 13.\n\nThe basic logical operators are `<`, `<=`, `>`, `>=`, `==` for exact equality, and `!=` for inequality\n"
    },
    {
      "metadata": {
        "trusted": true
      },
      "cell_type": "code",
      "source": "#For example, does 2 equal 3?\n2 == 3",
      "execution_count": 20,
      "outputs": [
        {
          "output_type": "display_data",
          "data": {
            "text/plain": "[1] FALSE",
            "text/latex": "FALSE",
            "text/markdown": "FALSE",
            "text/html": "FALSE"
          },
          "metadata": {}
        }
      ]
    },
    {
      "metadata": {
        "trusted": true
      },
      "cell_type": "code",
      "source": "# Is 2 NOT EQUAL to 3?\n2!=3",
      "execution_count": 21,
      "outputs": [
        {
          "output_type": "display_data",
          "data": {
            "text/plain": "[1] TRUE",
            "text/latex": "TRUE",
            "text/markdown": "TRUE",
            "text/html": "TRUE"
          },
          "metadata": {}
        }
      ]
    },
    {
      "metadata": {},
      "cell_type": "markdown",
      "source": "** TASK FOR YOU ** write code to test whether any of x equal 3.1?"
    },
    {
      "metadata": {
        "trusted": true
      },
      "cell_type": "code",
      "source": "# try to write the command here--",
      "execution_count": 22,
      "outputs": []
    },
    {
      "metadata": {},
      "cell_type": "markdown",
      "source": "## Missing values\n\nSometimes there will be missing value in your data. When an element or value is \"not available\" or a \"missing value\" you can reserve a place for it within a vector by assigning it the special value `NA`. In general, any operation on an `NA` becomes an `NA`. e.g NA + 1 = NA. The function `is.na(x)` gives a logical vector of the same size as `x` with value `TRUE` if and only if the corresponding element in `x` is `NA`:\n"
    },
    {
      "metadata": {
        "trusted": true
      },
      "cell_type": "code",
      "source": "z <- c(1:3,NA)\n\nz\n\nind <- is.na(z)\n\nind",
      "execution_count": 23,
      "outputs": [
        {
          "output_type": "display_data",
          "data": {
            "text/plain": "[1]  1  2  3 NA",
            "text/latex": "\\begin{enumerate*}\n\\item 1\n\\item 2\n\\item 3\n\\item <NA>\n\\end{enumerate*}\n",
            "text/markdown": "1. 1\n2. 2\n3. 3\n4. &lt;NA&gt;\n\n\n",
            "text/html": "<ol class=list-inline>\n\t<li>1</li>\n\t<li>2</li>\n\t<li>3</li>\n\t<li>&lt;NA&gt;</li>\n</ol>\n"
          },
          "metadata": {}
        },
        {
          "output_type": "display_data",
          "data": {
            "text/plain": "[1] FALSE FALSE FALSE  TRUE",
            "text/latex": "\\begin{enumerate*}\n\\item FALSE\n\\item FALSE\n\\item FALSE\n\\item TRUE\n\\end{enumerate*}\n",
            "text/markdown": "1. FALSE\n2. FALSE\n3. FALSE\n4. TRUE\n\n\n",
            "text/html": "<ol class=list-inline>\n\t<li>FALSE</li>\n\t<li>FALSE</li>\n\t<li>FALSE</li>\n\t<li>TRUE</li>\n</ol>\n"
          },
          "metadata": {}
        }
      ]
    },
    {
      "metadata": {},
      "cell_type": "markdown",
      "source": "There is also is a second kind of \"missing\" value, the NaN or not-a-number, which is produced by numerical computation that cannot be sensibly performed:"
    },
    {
      "metadata": {
        "trusted": true
      },
      "cell_type": "code",
      "source": "0/0\nInf - Inf",
      "execution_count": 24,
      "outputs": [
        {
          "output_type": "display_data",
          "data": {
            "text/plain": "[1] NaN",
            "text/latex": "NaN",
            "text/markdown": "NaN",
            "text/html": "NaN"
          },
          "metadata": {}
        },
        {
          "output_type": "display_data",
          "data": {
            "text/plain": "[1] NaN",
            "text/latex": "NaN",
            "text/markdown": "NaN",
            "text/html": "NaN"
          },
          "metadata": {}
        }
      ]
    },
    {
      "metadata": {},
      "cell_type": "markdown",
      "source": "## Character vectors\n\nCharacter quantities and character vectors are used frequently in R, for example as plot labels. They're defined by a sequence of characters inside double quotes, for example:"
    },
    {
      "metadata": {
        "trusted": true
      },
      "cell_type": "code",
      "source": "\"x-values\"\n\"New iteration results\"",
      "execution_count": 25,
      "outputs": [
        {
          "output_type": "display_data",
          "data": {
            "text/plain": "[1] \"x-values\"",
            "text/latex": "'x-values'",
            "text/markdown": "'x-values'",
            "text/html": "'x-values'"
          },
          "metadata": {}
        },
        {
          "output_type": "display_data",
          "data": {
            "text/plain": "[1] \"New iteration results\"",
            "text/latex": "'New iteration results'",
            "text/markdown": "'New iteration results'",
            "text/html": "'New iteration results'"
          },
          "metadata": {}
        }
      ]
    },
    {
      "metadata": {},
      "cell_type": "markdown",
      "source": "As with numbers, character vectors may be concatenated into a vector using the `c()` function. \n"
    },
    {
      "metadata": {
        "trusted": true
      },
      "cell_type": "code",
      "source": "labs <- c(\"Label 1\", \"Label 2\")\nlabs",
      "execution_count": 26,
      "outputs": [
        {
          "output_type": "display_data",
          "data": {
            "text/plain": "[1] \"Label 1\" \"Label 2\"",
            "text/latex": "\\begin{enumerate*}\n\\item 'Label 1'\n\\item 'Label 2'\n\\end{enumerate*}\n",
            "text/markdown": "1. 'Label 1'\n2. 'Label 2'\n\n\n",
            "text/html": "<ol class=list-inline>\n\t<li>'Label 1'</li>\n\t<li>'Label 2'</li>\n</ol>\n"
          },
          "metadata": {}
        }
      ]
    },
    {
      "metadata": {},
      "cell_type": "markdown",
      "source": "## Index vectors; selecting and modifying subsets of a data set\n\nSubsets of the elements of a vector may be selected by appending to the name of the vector an *index vector* in square brackets.  There are different ways to do this. We consider two.\n\n### (1) A logical vector\n\nIn this case the index vector should be the same length as the vector from which elements are to be selected. Values corresponding to `TRUE` in the index vector are selected and those corresponding to `FALSE` are omitted. For example, the following expression creates an object `y` which contains the non-missing values of `x`, in the same order. Note that if `x` has missing values, `y` is shorter than `x`."
    },
    {
      "metadata": {
        "trusted": true
      },
      "cell_type": "code",
      "source": "y <- x[!is.na(x)]\ny",
      "execution_count": 27,
      "outputs": [
        {
          "output_type": "display_data",
          "data": {
            "text/plain": "[1] 10.4  5.6  3.1  6.4 21.7",
            "text/latex": "\\begin{enumerate*}\n\\item 10.4\n\\item 5.6\n\\item 3.1\n\\item 6.4\n\\item 21.7\n\\end{enumerate*}\n",
            "text/markdown": "1. 10.4\n2. 5.6\n3. 3.1\n4. 6.4\n5. 21.7\n\n\n",
            "text/html": "<ol class=list-inline>\n\t<li>10.4</li>\n\t<li>5.6</li>\n\t<li>3.1</li>\n\t<li>6.4</li>\n\t<li>21.7</li>\n</ol>\n"
          },
          "metadata": {}
        }
      ]
    },
    {
      "metadata": {},
      "cell_type": "markdown",
      "source": "### (2) A vector of the positions wanted\n\nFor example:"
    },
    {
      "metadata": {
        "trusted": true
      },
      "cell_type": "code",
      "source": "x[2]    # The second component of x\nx[1:3] # Selects the first 3 elements of x ",
      "execution_count": 28,
      "outputs": [
        {
          "output_type": "display_data",
          "data": {
            "text/plain": "[1] 5.6",
            "text/latex": "5.6",
            "text/markdown": "5.6",
            "text/html": "5.6"
          },
          "metadata": {}
        },
        {
          "output_type": "display_data",
          "data": {
            "text/plain": "[1] 10.4  5.6  3.1",
            "text/latex": "\\begin{enumerate*}\n\\item 10.4\n\\item 5.6\n\\item 3.1\n\\end{enumerate*}\n",
            "text/markdown": "1. 10.4\n2. 5.6\n3. 3.1\n\n\n",
            "text/html": "<ol class=list-inline>\n\t<li>10.4</li>\n\t<li>5.6</li>\n\t<li>3.1</li>\n</ol>\n"
          },
          "metadata": {}
        }
      ]
    },
    {
      "metadata": {},
      "cell_type": "markdown",
      "source": "## Other data structures\n\nVectors are an important type of object in R, and if you understand the above then it is easier to work with other structures. These two re quite useful to understand --\n\n- *Data frames* are matrix-like structures in which the columns can be of different types. Think of data frames as 'data matrices' with one row per observational unit but with (possibly) both numerical and categorical variables. Many experiments are best described by data frames: the treatments are categorical but the response is numeric. See [Data frames](https://cran.r-project.org/doc/manuals/r-release/R-intro.html#Data-frames).\n\n- *Factors* provide compact ways to handle categorical data. See [Factors](https://cran.r-project.org/doc/manuals/r-release/R-intro.html#Factors). "
    },
    {
      "metadata": {},
      "cell_type": "markdown",
      "source": "# A sample R session\n\nThe code in this walkthrough introduces you to various features of R for some basic data analysis. To begin with, we will use R to make up some data (simulation). We'll generate two random normal vectors of x- and y-coordinates where y = x + error"
    },
    {
      "metadata": {
        "trusted": true
      },
      "cell_type": "code",
      "source": "# the first data vector are 20 sampes from a standard Normal distribution (mean 0, sd 1)\nmyvar1 <- rnorm(20)\n\n# the second data vector are 20 samples equal to the first data vector plus the first data vector multiplied by another standard normal distribution. \nmyvar2 <- myvar1 + rnorm(20)\n\n# then we can put them into a data frame \ndummy <- data.frame(x=myvar1, y=myvar2)\n\n#and print out so you can see the data we made up\ndummy",
      "execution_count": 29,
      "outputs": [
        {
          "output_type": "display_data",
          "data": {
            "text/plain": "   x           y          \n1  -1.16869874 -1.36203218\n2  -2.33064002 -4.23269642\n3  -1.05494695 -2.21824381\n4  -3.11050427 -5.16398949\n5  -0.67708870 -1.63478504\n6   1.06818944  0.75879851\n7  -1.33968659  0.33794906\n8  -0.58182184 -0.49978789\n9  -1.35193161 -1.60808181\n10  0.23153044  1.66417573\n11 -0.38046222  0.86230944\n12  1.91778121  1.21380124\n13  0.68067689  0.03510650\n14 -2.00527976 -1.70138680\n15 -0.99554532 -0.25894491\n16  0.93117888  0.09432265\n17  0.08953969 -0.63029518\n18 -0.27948799  0.25255763\n19 -0.82531750 -2.50108455\n20  1.00904373 -0.37566205",
            "text/latex": "A data.frame: 20 x 2\n\\begin{tabular}{r|ll}\n x & y\\\\\n <dbl> & <dbl>\\\\\n\\hline\n\t -1.16869874 & -1.36203218\\\\\n\t -2.33064002 & -4.23269642\\\\\n\t -1.05494695 & -2.21824381\\\\\n\t -3.11050427 & -5.16398949\\\\\n\t -0.67708870 & -1.63478504\\\\\n\t  1.06818944 &  0.75879851\\\\\n\t -1.33968659 &  0.33794906\\\\\n\t -0.58182184 & -0.49978789\\\\\n\t -1.35193161 & -1.60808181\\\\\n\t  0.23153044 &  1.66417573\\\\\n\t -0.38046222 &  0.86230944\\\\\n\t  1.91778121 &  1.21380124\\\\\n\t  0.68067689 &  0.03510650\\\\\n\t -2.00527976 & -1.70138680\\\\\n\t -0.99554532 & -0.25894491\\\\\n\t  0.93117888 &  0.09432265\\\\\n\t  0.08953969 & -0.63029518\\\\\n\t -0.27948799 &  0.25255763\\\\\n\t -0.82531750 & -2.50108455\\\\\n\t  1.00904373 & -0.37566205\\\\\n\\end{tabular}\n",
            "text/markdown": "\nA data.frame: 20 x 2\n\n| x &lt;dbl&gt; | y &lt;dbl&gt; |\n|---|---|\n| -1.16869874 | -1.36203218 |\n| -2.33064002 | -4.23269642 |\n| -1.05494695 | -2.21824381 |\n| -3.11050427 | -5.16398949 |\n| -0.67708870 | -1.63478504 |\n|  1.06818944 |  0.75879851 |\n| -1.33968659 |  0.33794906 |\n| -0.58182184 | -0.49978789 |\n| -1.35193161 | -1.60808181 |\n|  0.23153044 |  1.66417573 |\n| -0.38046222 |  0.86230944 |\n|  1.91778121 |  1.21380124 |\n|  0.68067689 |  0.03510650 |\n| -2.00527976 | -1.70138680 |\n| -0.99554532 | -0.25894491 |\n|  0.93117888 |  0.09432265 |\n|  0.08953969 | -0.63029518 |\n| -0.27948799 |  0.25255763 |\n| -0.82531750 | -2.50108455 |\n|  1.00904373 | -0.37566205 |\n\n",
            "text/html": "<table>\n<caption>A data.frame: 20 x 2</caption>\n<thead>\n\t<tr><th scope=col>x</th><th scope=col>y</th></tr>\n\t<tr><th scope=col>&lt;dbl&gt;</th><th scope=col>&lt;dbl&gt;</th></tr>\n</thead>\n<tbody>\n\t<tr><td>-1.16869874</td><td>-1.36203218</td></tr>\n\t<tr><td>-2.33064002</td><td>-4.23269642</td></tr>\n\t<tr><td>-1.05494695</td><td>-2.21824381</td></tr>\n\t<tr><td>-3.11050427</td><td>-5.16398949</td></tr>\n\t<tr><td>-0.67708870</td><td>-1.63478504</td></tr>\n\t<tr><td> 1.06818944</td><td> 0.75879851</td></tr>\n\t<tr><td>-1.33968659</td><td> 0.33794906</td></tr>\n\t<tr><td>-0.58182184</td><td>-0.49978789</td></tr>\n\t<tr><td>-1.35193161</td><td>-1.60808181</td></tr>\n\t<tr><td> 0.23153044</td><td> 1.66417573</td></tr>\n\t<tr><td>-0.38046222</td><td> 0.86230944</td></tr>\n\t<tr><td> 1.91778121</td><td> 1.21380124</td></tr>\n\t<tr><td> 0.68067689</td><td> 0.03510650</td></tr>\n\t<tr><td>-2.00527976</td><td>-1.70138680</td></tr>\n\t<tr><td>-0.99554532</td><td>-0.25894491</td></tr>\n\t<tr><td> 0.93117888</td><td> 0.09432265</td></tr>\n\t<tr><td> 0.08953969</td><td>-0.63029518</td></tr>\n\t<tr><td>-0.27948799</td><td> 0.25255763</td></tr>\n\t<tr><td>-0.82531750</td><td>-2.50108455</td></tr>\n\t<tr><td> 1.00904373</td><td>-0.37566205</td></tr>\n</tbody>\n</table>\n"
          },
          "metadata": {}
        }
      ]
    },
    {
      "metadata": {},
      "cell_type": "markdown",
      "source": "Every time you run this, you'll get different numbers in your table (new simulation is run).\n\nLets get a quick summary of these data"
    },
    {
      "metadata": {
        "trusted": true
      },
      "cell_type": "code",
      "source": "# A quick way to get summary statistics of columns in the data frame\nsummary(dummy)",
      "execution_count": 30,
      "outputs": [
        {
          "output_type": "display_data",
          "data": {
            "text/plain": "       x                 y          \n Min.   :-3.1105   Min.   :-5.1640  \n 1st Qu.:-1.2114   1st Qu.:-1.6514  \n Median :-0.6295   Median :-0.4377  \n Mean   :-0.5087   Mean   :-0.8484  \n 3rd Qu.: 0.3438   3rd Qu.: 0.2739  \n Max.   : 1.9178   Max.   : 1.6642  "
          },
          "metadata": {}
        }
      ]
    },
    {
      "metadata": {},
      "cell_type": "markdown",
      "source": "This tells us the minimm, maximum, median, mean, 1st quantile (75% of data above this point) and 3rd quantile (25% of data above this point) for our `x` and `y` columns, that we made up.\n\nWe can also do this one statistic at a time. For example:"
    },
    {
      "metadata": {
        "trusted": true
      },
      "cell_type": "code",
      "source": "#To access each column we use a dollar sign\n#e.g. x\ndummy$x",
      "execution_count": 31,
      "outputs": [
        {
          "output_type": "display_data",
          "data": {
            "text/plain": " [1] -1.16869874 -2.33064002 -1.05494695 -3.11050427 -0.67708870  1.06818944\n [7] -1.33968659 -0.58182184 -1.35193161  0.23153044 -0.38046222  1.91778121\n[13]  0.68067689 -2.00527976 -0.99554532  0.93117888  0.08953969 -0.27948799\n[19] -0.82531750  1.00904373",
            "text/latex": "\\begin{enumerate*}\n\\item -1.16869873839455\n\\item -2.33064002492733\n\\item -1.05494694905446\n\\item -3.11050427008177\n\\item -0.6770887032713\n\\item 1.06818944370815\n\\item -1.33968658874516\n\\item -0.581821835192402\n\\item -1.35193161315695\n\\item 0.23153043534349\n\\item -0.380462220414423\n\\item 1.9177812063531\n\\item 0.680676892900322\n\\item -2.00527975977174\n\\item -0.995545316655636\n\\item 0.931178883012155\n\\item 0.0895396896241786\n\\item -0.279487988991518\n\\item -0.825317502811851\n\\item 1.00904373064705\n\\end{enumerate*}\n",
            "text/markdown": "1. -1.16869873839455\n2. -2.33064002492733\n3. -1.05494694905446\n4. -3.11050427008177\n5. -0.6770887032713\n6. 1.06818944370815\n7. -1.33968658874516\n8. -0.581821835192402\n9. -1.35193161315695\n10. 0.23153043534349\n11. -0.380462220414423\n12. 1.9177812063531\n13. 0.680676892900322\n14. -2.00527975977174\n15. -0.995545316655636\n16. 0.931178883012155\n17. 0.0895396896241786\n18. -0.279487988991518\n19. -0.825317502811851\n20. 1.00904373064705\n\n\n",
            "text/html": "<ol class=list-inline>\n\t<li>-1.16869873839455</li>\n\t<li>-2.33064002492733</li>\n\t<li>-1.05494694905446</li>\n\t<li>-3.11050427008177</li>\n\t<li>-0.6770887032713</li>\n\t<li>1.06818944370815</li>\n\t<li>-1.33968658874516</li>\n\t<li>-0.581821835192402</li>\n\t<li>-1.35193161315695</li>\n\t<li>0.23153043534349</li>\n\t<li>-0.380462220414423</li>\n\t<li>1.9177812063531</li>\n\t<li>0.680676892900322</li>\n\t<li>-2.00527975977174</li>\n\t<li>-0.995545316655636</li>\n\t<li>0.931178883012155</li>\n\t<li>0.0895396896241786</li>\n\t<li>-0.279487988991518</li>\n\t<li>-0.825317502811851</li>\n\t<li>1.00904373064705</li>\n</ol>\n"
          },
          "metadata": {}
        }
      ]
    },
    {
      "metadata": {
        "trusted": true
      },
      "cell_type": "code",
      "source": "#another way to get mean of x\nmean(dummy$x)",
      "execution_count": 32,
      "outputs": [
        {
          "output_type": "display_data",
          "data": {
            "text/plain": "[1] -0.5086736",
            "text/latex": "-0.508673561494033",
            "text/markdown": "-0.508673561494033",
            "text/html": "-0.508673561494033"
          },
          "metadata": {}
        }
      ]
    },
    {
      "metadata": {
        "trusted": true
      },
      "cell_type": "code",
      "source": "#mean of first 10 values of y\nmean(dummy$y[1:10])",
      "execution_count": 33,
      "outputs": [
        {
          "output_type": "display_data",
          "data": {
            "text/plain": "[1] -1.395869",
            "text/latex": "-1.39586933371177",
            "text/markdown": "-1.39586933371177",
            "text/html": "-1.39586933371177"
          },
          "metadata": {}
        }
      ]
    },
    {
      "metadata": {
        "trusted": true
      },
      "cell_type": "code",
      "source": "cor.test(dummy$x, dummy$y)",
      "execution_count": 34,
      "outputs": [
        {
          "output_type": "display_data",
          "data": {
            "text/plain": "\n\tPearson's product-moment correlation\n\ndata:  dummy$x and dummy$y\nt = 5.4441, df = 18, p-value = 3.587e-05\nalternative hypothesis: true correlation is not equal to 0\n95 percent confidence interval:\n 0.5319059 0.9127102\nsample estimates:\n      cor \n0.7887672 \n"
          },
          "metadata": {}
        }
      ]
    },
    {
      "metadata": {
        "trusted": true
      },
      "cell_type": "code",
      "source": "cor.test(dummy$x, dummy$y, method=\"spearman\")",
      "execution_count": 35,
      "outputs": [
        {
          "output_type": "display_data",
          "data": {
            "text/plain": "\n\tSpearman's rank correlation rho\n\ndata:  dummy$x and dummy$y\nS = 378, p-value = 0.0005621\nalternative hypothesis: true rho is not equal to 0\nsample estimates:\n      rho \n0.7157895 \n"
          },
          "metadata": {}
        }
      ]
    },
    {
      "metadata": {},
      "cell_type": "markdown",
      "source": "# Plots\n\nOne way to do plots is to generate a graphics file. We'll generate PNG files, but you can generate many other types in a similar way (e.g. PDF, EPS, JPEG; e.g. use pdf() instead of png(); ?pdf for furter help)"
    },
    {
      "metadata": {
        "trusted": true
      },
      "cell_type": "code",
      "source": "\n#To save a graphic you first need to open the file (called 'plot1.png' here)\npng('plot1.png')\n\n##Then you make the chart.\n##This is a standard R scatterplot\nplot(dummy$x, dummy$y)\n\n## Then - important - close the file using 'dev.off()'\ndev.off()",
      "execution_count": 36,
      "outputs": [
        {
          "output_type": "display_data",
          "data": {
            "text/plain": "png \n  2 ",
            "text/latex": "\\textbf{png:} 2",
            "text/markdown": "**png:** 2",
            "text/html": "<strong>png:</strong> 2"
          },
          "metadata": {}
        }
      ]
    },
    {
      "metadata": {},
      "cell_type": "markdown",
      "source": "Then show the chart 'plot1.png' in a markdown cell via (click edit to see the code for this if you see a chart already) --\n![title](plot1.png)"
    },
    {
      "metadata": {},
      "cell_type": "markdown",
      "source": "(You can also use the plot in other software - it has been saved onto your cloud storage for the project.)"
    },
    {
      "metadata": {
        "trusted": true
      },
      "cell_type": "code",
      "source": "# Now lets repeat, but add some labels \n\n#To save a graphic you first need to open the file (lets save as a pdf this time called 'plot1b.pdf' here)\npdf('plot1b.pdf')\n\n##Then you make the chart.\n##This is a standard R scatterplot, but now we've added some labels to the plot\nplot(dummy$x, dummy$y, xlab=\"TEMPERATURE\", ylab=\"CONSUMPTION OF CHOCOLATE ICE CREAM\", main=\"I love ice cream when it is hot\")\n\n## Then - important - close the file using 'dev.off()'\ndev.off()",
      "execution_count": 37,
      "outputs": [
        {
          "output_type": "display_data",
          "data": {
            "text/plain": "png \n  2 ",
            "text/latex": "\\textbf{png:} 2",
            "text/markdown": "**png:** 2",
            "text/html": "<strong>png:</strong> 2"
          },
          "metadata": {}
        }
      ]
    },
    {
      "metadata": {},
      "cell_type": "markdown",
      "source": "So now you can produce a simple scatter plot in R and save it as a png or a pdf file. e.g. You can import png files into Word. You can open the PDF using a viewer like Adobe acrobat - it will be saved in your cloud storage associated with this notebook."
    },
    {
      "metadata": {
        "trusted": true
      },
      "cell_type": "code",
      "source": "",
      "execution_count": null,
      "outputs": []
    }
  ],
  "metadata": {
    "kernelspec": {
      "name": "r",
      "display_name": "R",
      "language": "R"
    },
    "language_info": {
      "mimetype": "text/x-r-source",
      "name": "R",
      "pygments_lexer": "r",
      "version": "3.5.3",
      "file_extension": ".r",
      "codemirror_mode": "r"
    }
  },
  "nbformat": 4,
  "nbformat_minor": 1
}